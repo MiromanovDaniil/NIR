{
 "cells": [
  {
   "cell_type": "code",
   "execution_count": 1,
   "id": "f0986d40-42f5-48c1-bc63-ff3e9887c8e3",
   "metadata": {},
   "outputs": [],
   "source": [
    "import sympy as smp\n",
    "import numpy as np\n",
    "from selenium import webdriver\n",
    "from selenium.webdriver.common.by import By\n",
    "import time"
   ]
  },
  {
   "cell_type": "markdown",
   "id": "059788ef",
   "metadata": {},
   "source": []
  },
  {
   "cell_type": "code",
   "execution_count": 2,
   "id": "3dcf2373",
   "metadata": {},
   "outputs": [],
   "source": [
    "class FileSystemManager:\n",
    "    def __init__(self):\n",
    "        pass\n",
    "\n",
    "    def open_file(self, text, filepath, flag):\n",
    "        \"\"\"\n",
    "        Opens a file in read, write, or append mode.\n",
    "        \n",
    "        :param text: Text to write to the file if flag is 'w' or 'a'\n",
    "        :param filepath: Path of the file to open\n",
    "        :param flag: 'r' to read, 'w' to write, 'a' to append\n",
    "        :return: File content if reading, None if writing or appending\n",
    "        \"\"\"\n",
    "        try:\n",
    "            if flag == 'r':\n",
    "                with open(filepath, 'r') as f:\n",
    "                    data = f.read()\n",
    "                    return data  # return instead of print\n",
    "            elif flag == 'w':\n",
    "                with open(filepath, 'w') as f:\n",
    "                    f.write(text)\n",
    "            elif flag == 'a':\n",
    "                with open(filepath, 'a') as f:\n",
    "                    f.write(text)\n",
    "            else:\n",
    "                raise ValueError(\"Unsupported flag. Use 'r' for read, 'w' for write, or 'a' for append.\")\n",
    "        except FileNotFoundError:\n",
    "            print(f\"Error: File {filepath} not found.\")\n",
    "        except IOError as e:\n",
    "            print(f\"Error accessing file {filepath}: {e}\")"
   ]
  },
  {
   "cell_type": "code",
   "execution_count": 3,
   "id": "8dda1401",
   "metadata": {},
   "outputs": [],
   "source": [
    "class MagmaCalculator:\n",
    "    \"\"\"\n",
    "    A class to interact with the Magma Calculator webpage and submit code for evaluation.\n",
    "    \n",
    "    Attributes:\n",
    "    ----------\n",
    "    output_file : str\n",
    "        The name of the file where the output from the Magma Calculator will be saved.\n",
    "    driver : webdriver.Chrome\n",
    "        A Chrome web driver instance to automate browser interaction.\n",
    "    url : str\n",
    "        The URL of the Magma Calculator page.\n",
    "    \n",
    "    Methods:\n",
    "    -------\n",
    "    submit_code(code):\n",
    "        Submits the given Magma code to the calculator and saves the result to a file.\n",
    "    \n",
    "    close():\n",
    "        Closes the browser session.\n",
    "    \"\"\"\n",
    "    \n",
    "    def __init__(self, output_file=\"MagmaCalcResult\"):\n",
    "        \"\"\"\n",
    "        Initializes the MagmaCalculator with the given output file name.\n",
    "        \n",
    "        Parameters:\n",
    "        ----------\n",
    "        output_file : str, optional\n",
    "            The name of the file where the result will be saved (default is \"output.txt\").\n",
    "        \"\"\"\n",
    "        self.url = \"http://magma.maths.usyd.edu.au/calc/\"\n",
    "        self.output_file = output_file\n",
    "        self.file_manager = FileSystemManager()\n",
    "\n",
    "    def submit_code(self, code):\n",
    "        \"\"\"\n",
    "        Submits the given code to the Magma Calculator and saves the result to the output file.\n",
    "        \n",
    "        Parameters:\n",
    "        ----------\n",
    "        code : str\n",
    "            The Magma code to be submitted for evaluation.\n",
    "        \n",
    "        Actions:\n",
    "        -------\n",
    "        - Opens the Magma Calculator webpage.\n",
    "        - Finds the input box and enters the code.\n",
    "        - Clicks the submit button.\n",
    "        - Waits for the result to load.\n",
    "        - Retrieves the result and writes it to the specified output file.\n",
    "        \"\"\"\n",
    "        driver = webdriver.Chrome()\n",
    "        try:\n",
    "            driver.get(self.url)\n",
    "            \n",
    "            input_box = driver.find_element(By.ID, \"input\")\n",
    "            input_box.clear()\n",
    "            input_box.send_keys(code)\n",
    "            \n",
    "            submit_button = driver.find_element(By.XPATH, \"//input[@value='Submit']\")\n",
    "            submit_button.click()\n",
    "            \n",
    "            time.sleep(5)\n",
    "            \n",
    "            result_element = driver.find_element(By.ID, \"result\")\n",
    "            result_text = result_element.get_attribute('value')\n",
    "            \n",
    "            self.file_manager.open_file(code + '\\n' + result_text, self.output_file, 'a')\n",
    "        finally:\n",
    "            driver.quit()"
   ]
  },
  {
   "cell_type": "code",
   "execution_count": 32,
   "id": "3479e8bf-85c9-4829-8798-6870ee7f7e11",
   "metadata": {},
   "outputs": [],
   "source": [
    "x, x0, x1, w, gamma = smp.symbols('x x0 x1 w gamma')"
   ]
  },
  {
   "cell_type": "code",
   "execution_count": 33,
   "id": "65f713ea",
   "metadata": {},
   "outputs": [],
   "source": [
    "eq_1 = smp.Poly(w * gamma * x**9, x)\n",
    "eq_2 = smp.Poly((1 / w) * ((x - 1)*(x - x0)**8 * x - (x - x1)**6 * (x - 1)**4), x)"
   ]
  },
  {
   "cell_type": "code",
   "execution_count": 34,
   "id": "5979f646",
   "metadata": {},
   "outputs": [
    {
     "data": {
      "text/latex": [
       "$\\displaystyle \\operatorname{Poly}{\\left( \\gamma w x^{9}, x, domain=\\mathbb{Z}\\left[w, \\gamma\\right] \\right)}$"
      ],
      "text/plain": [
       "Poly(gamma*w*x**9, x, domain='ZZ[w,gamma]')"
      ]
     },
     "execution_count": 34,
     "metadata": {},
     "output_type": "execute_result"
    }
   ],
   "source": [
    "eq_1"
   ]
  },
  {
   "cell_type": "code",
   "execution_count": 35,
   "id": "b0b4ad3c",
   "metadata": {},
   "outputs": [
    {
     "data": {
      "text/latex": [
       "$\\displaystyle \\operatorname{Poly}{\\left( \\frac{- 8 x_{0} + 6 x_{1} + 3}{w} x^{9} + \\frac{28 x_{0}^{2} + 8 x_{0} - 15 x_{1}^{2} - 24 x_{1} - 6}{w} x^{8} + \\frac{- 56 x_{0}^{3} - 28 x_{0}^{2} + 20 x_{1}^{3} + 60 x_{1}^{2} + 36 x_{1} + 4}{w} x^{7} + \\frac{70 x_{0}^{4} + 56 x_{0}^{3} - 15 x_{1}^{4} - 80 x_{1}^{3} - 90 x_{1}^{2} - 24 x_{1} - 1}{w} x^{6} + \\frac{- 56 x_{0}^{5} - 70 x_{0}^{4} + 6 x_{1}^{5} + 60 x_{1}^{4} + 120 x_{1}^{3} + 60 x_{1}^{2} + 6 x_{1}}{w} x^{5} + \\frac{28 x_{0}^{6} + 56 x_{0}^{5} - x_{1}^{6} - 24 x_{1}^{5} - 90 x_{1}^{4} - 80 x_{1}^{3} - 15 x_{1}^{2}}{w} x^{4} + \\frac{- 8 x_{0}^{7} - 28 x_{0}^{6} + 4 x_{1}^{6} + 36 x_{1}^{5} + 60 x_{1}^{4} + 20 x_{1}^{3}}{w} x^{3} + \\frac{x_{0}^{8} + 8 x_{0}^{7} - 6 x_{1}^{6} - 24 x_{1}^{5} - 15 x_{1}^{4}}{w} x^{2} + \\frac{- x_{0}^{8} + 4 x_{1}^{6} + 6 x_{1}^{5}}{w} x -  \\frac{x_{1}^{6}}{w}, x, domain=\\mathbb{Z}\\left(x_{0}, x_{1}, w\\right) \\right)}$"
      ],
      "text/plain": [
       "Poly((-8*x0 + 6*x1 + 3)/w*x**9 + (28*x0**2 + 8*x0 - 15*x1**2 - 24*x1 - 6)/w*x**8 + (-56*x0**3 - 28*x0**2 + 20*x1**3 + 60*x1**2 + 36*x1 + 4)/w*x**7 + (70*x0**4 + 56*x0**3 - 15*x1**4 - 80*x1**3 - 90*x1**2 - 24*x1 - 1)/w*x**6 + (-56*x0**5 - 70*x0**4 + 6*x1**5 + 60*x1**4 + 120*x1**3 + 60*x1**2 + 6*x1)/w*x**5 + (28*x0**6 + 56*x0**5 - x1**6 - 24*x1**5 - 90*x1**4 - 80*x1**3 - 15*x1**2)/w*x**4 + (-8*x0**7 - 28*x0**6 + 4*x1**6 + 36*x1**5 + 60*x1**4 + 20*x1**3)/w*x**3 + (x0**8 + 8*x0**7 - 6*x1**6 - 24*x1**5 - 15*x1**4)/w*x**2 + (-x0**8 + 4*x1**6 + 6*x1**5)/w*x - x1**6/w, x, domain='ZZ(x0,x1,w)')"
      ]
     },
     "execution_count": 35,
     "metadata": {},
     "output_type": "execute_result"
    }
   ],
   "source": [
    "eq_2"
   ]
  },
  {
   "cell_type": "code",
   "execution_count": 36,
   "id": "ed91c8f0",
   "metadata": {},
   "outputs": [],
   "source": [
    "V1_m = (eq_1 + eq_2)/2\n",
    "V2 = (-eq_1 + eq_2)/2"
   ]
  },
  {
   "cell_type": "code",
   "execution_count": 37,
   "id": "a4e2f5ef",
   "metadata": {},
   "outputs": [
    {
     "data": {
      "text/latex": [
       "$\\displaystyle \\frac{x^{9} \\left(\\gamma w^{2} - 8 x_{0} + 6 x_{1} + 3\\right)}{2 w} + \\frac{x^{8} \\left(28 x_{0}^{2} + 8 x_{0} - 15 x_{1}^{2} - 24 x_{1} - 6\\right)}{2 w} + \\frac{x^{7} \\left(- 56 x_{0}^{3} - 28 x_{0}^{2} + 20 x_{1}^{3} + 60 x_{1}^{2} + 36 x_{1} + 4\\right)}{2 w} + \\frac{x^{6} \\left(70 x_{0}^{4} + 56 x_{0}^{3} - 15 x_{1}^{4} - 80 x_{1}^{3} - 90 x_{1}^{2} - 24 x_{1} - 1\\right)}{2 w} + \\frac{x^{5} \\left(- 56 x_{0}^{5} - 70 x_{0}^{4} + 6 x_{1}^{5} + 60 x_{1}^{4} + 120 x_{1}^{3} + 60 x_{1}^{2} + 6 x_{1}\\right)}{2 w} + \\frac{x^{4} \\left(28 x_{0}^{6} + 56 x_{0}^{5} - x_{1}^{6} - 24 x_{1}^{5} - 90 x_{1}^{4} - 80 x_{1}^{3} - 15 x_{1}^{2}\\right)}{2 w} + \\frac{x^{3} \\left(- 8 x_{0}^{7} - 28 x_{0}^{6} + 4 x_{1}^{6} + 36 x_{1}^{5} + 60 x_{1}^{4} + 20 x_{1}^{3}\\right)}{2 w} + \\frac{x^{2} \\left(x_{0}^{8} + 8 x_{0}^{7} - 6 x_{1}^{6} - 24 x_{1}^{5} - 15 x_{1}^{4}\\right)}{2 w} + \\frac{x \\left(- x_{0}^{8} + 4 x_{1}^{6} + 6 x_{1}^{5}\\right)}{2 w} - \\frac{x_{1}^{6}}{2 w}$"
      ],
      "text/plain": [
       "x**9*(gamma*w**2 - 8*x0 + 6*x1 + 3)/(2*w) + x**8*(28*x0**2 + 8*x0 - 15*x1**2 - 24*x1 - 6)/(2*w) + x**7*(-56*x0**3 - 28*x0**2 + 20*x1**3 + 60*x1**2 + 36*x1 + 4)/(2*w) + x**6*(70*x0**4 + 56*x0**3 - 15*x1**4 - 80*x1**3 - 90*x1**2 - 24*x1 - 1)/(2*w) + x**5*(-56*x0**5 - 70*x0**4 + 6*x1**5 + 60*x1**4 + 120*x1**3 + 60*x1**2 + 6*x1)/(2*w) + x**4*(28*x0**6 + 56*x0**5 - x1**6 - 24*x1**5 - 90*x1**4 - 80*x1**3 - 15*x1**2)/(2*w) + x**3*(-8*x0**7 - 28*x0**6 + 4*x1**6 + 36*x1**5 + 60*x1**4 + 20*x1**3)/(2*w) + x**2*(x0**8 + 8*x0**7 - 6*x1**6 - 24*x1**5 - 15*x1**4)/(2*w) + x*(-x0**8 + 4*x1**6 + 6*x1**5)/(2*w) - x1**6/(2*w)"
      ]
     },
     "execution_count": 37,
     "metadata": {},
     "output_type": "execute_result"
    }
   ],
   "source": [
    "V1_m"
   ]
  },
  {
   "cell_type": "code",
   "execution_count": 38,
   "id": "397ad545",
   "metadata": {},
   "outputs": [
    {
     "data": {
      "text/latex": [
       "$\\displaystyle \\frac{x^{9} \\left(- \\gamma w^{2} - 8 x_{0} + 6 x_{1} + 3\\right)}{2 w} + \\frac{x^{8} \\left(28 x_{0}^{2} + 8 x_{0} - 15 x_{1}^{2} - 24 x_{1} - 6\\right)}{2 w} + \\frac{x^{7} \\left(- 56 x_{0}^{3} - 28 x_{0}^{2} + 20 x_{1}^{3} + 60 x_{1}^{2} + 36 x_{1} + 4\\right)}{2 w} + \\frac{x^{6} \\left(70 x_{0}^{4} + 56 x_{0}^{3} - 15 x_{1}^{4} - 80 x_{1}^{3} - 90 x_{1}^{2} - 24 x_{1} - 1\\right)}{2 w} + \\frac{x^{5} \\left(- 56 x_{0}^{5} - 70 x_{0}^{4} + 6 x_{1}^{5} + 60 x_{1}^{4} + 120 x_{1}^{3} + 60 x_{1}^{2} + 6 x_{1}\\right)}{2 w} + \\frac{x^{4} \\left(28 x_{0}^{6} + 56 x_{0}^{5} - x_{1}^{6} - 24 x_{1}^{5} - 90 x_{1}^{4} - 80 x_{1}^{3} - 15 x_{1}^{2}\\right)}{2 w} + \\frac{x^{3} \\left(- 8 x_{0}^{7} - 28 x_{0}^{6} + 4 x_{1}^{6} + 36 x_{1}^{5} + 60 x_{1}^{4} + 20 x_{1}^{3}\\right)}{2 w} + \\frac{x^{2} \\left(x_{0}^{8} + 8 x_{0}^{7} - 6 x_{1}^{6} - 24 x_{1}^{5} - 15 x_{1}^{4}\\right)}{2 w} + \\frac{x \\left(- x_{0}^{8} + 4 x_{1}^{6} + 6 x_{1}^{5}\\right)}{2 w} - \\frac{x_{1}^{6}}{2 w}$"
      ],
      "text/plain": [
       "x**9*(-gamma*w**2 - 8*x0 + 6*x1 + 3)/(2*w) + x**8*(28*x0**2 + 8*x0 - 15*x1**2 - 24*x1 - 6)/(2*w) + x**7*(-56*x0**3 - 28*x0**2 + 20*x1**3 + 60*x1**2 + 36*x1 + 4)/(2*w) + x**6*(70*x0**4 + 56*x0**3 - 15*x1**4 - 80*x1**3 - 90*x1**2 - 24*x1 - 1)/(2*w) + x**5*(-56*x0**5 - 70*x0**4 + 6*x1**5 + 60*x1**4 + 120*x1**3 + 60*x1**2 + 6*x1)/(2*w) + x**4*(28*x0**6 + 56*x0**5 - x1**6 - 24*x1**5 - 90*x1**4 - 80*x1**3 - 15*x1**2)/(2*w) + x**3*(-8*x0**7 - 28*x0**6 + 4*x1**6 + 36*x1**5 + 60*x1**4 + 20*x1**3)/(2*w) + x**2*(x0**8 + 8*x0**7 - 6*x1**6 - 24*x1**5 - 15*x1**4)/(2*w) + x*(-x0**8 + 4*x1**6 + 6*x1**5)/(2*w) - x1**6/(2*w)"
      ]
     },
     "execution_count": 38,
     "metadata": {},
     "output_type": "execute_result"
    }
   ],
   "source": [
    "V2"
   ]
  },
  {
   "cell_type": "code",
   "execution_count": 39,
   "id": "447902f0",
   "metadata": {},
   "outputs": [],
   "source": [
    "solution_w = smp.solve(V1_m.subs(x, x0), w)\n",
    "solution = solution_w[0]"
   ]
  },
  {
   "cell_type": "code",
   "execution_count": 40,
   "id": "45c01338",
   "metadata": {},
   "outputs": [
    {
     "name": "stdout",
     "output_type": "stream",
     "text": [
      "-sqrt(1/(gamma*x0**9))*(x0 - 1)**2*(x0 - x1)**3\n"
     ]
    }
   ],
   "source": [
    "print(solution)"
   ]
  },
  {
   "cell_type": "code",
   "execution_count": 41,
   "id": "0556d3b2",
   "metadata": {},
   "outputs": [],
   "source": [
    "V_q = (V1_m * V1_m)"
   ]
  },
  {
   "cell_type": "code",
   "execution_count": 42,
   "id": "6260e0a3",
   "metadata": {},
   "outputs": [],
   "source": [
    "V_q = V_q.subs(w, solution).simplify()"
   ]
  },
  {
   "cell_type": "code",
   "execution_count": 43,
   "id": "fb202214-a135-46c7-b314-490e39d68f3e",
   "metadata": {},
   "outputs": [],
   "source": [
    "p1 = smp.Poly((x-x0)**2,x)\n",
    "\n",
    "quotient, remainder = smp.div(V_q, p1)"
   ]
  },
  {
   "cell_type": "code",
   "execution_count": 44,
   "id": "d3226529-9e8b-4b49-9ca3-3e966d877895",
   "metadata": {},
   "outputs": [],
   "source": [
    "V1 = quotient"
   ]
  },
  {
   "cell_type": "code",
   "execution_count": 45,
   "id": "fa5813c0",
   "metadata": {},
   "outputs": [],
   "source": [
    "# V1.simplify()"
   ]
  },
  {
   "cell_type": "code",
   "execution_count": 46,
   "id": "57820957-5d87-4e8b-a7e8-3928199b497f",
   "metadata": {},
   "outputs": [
    {
     "data": {
      "text/latex": [
       "$\\displaystyle \\operatorname{Poly}{\\left( 0, x_{0}, x, x_{1}, \\frac{1}{4 x_{0}^{19} - 24 x_{0}^{18} x_{1} - 16 x_{0}^{18} + 60 x_{0}^{17} x_{1}^{2} + 96 x_{0}^{17} x_{1} + 24 x_{0}^{17} - 80 x_{0}^{16} x_{1}^{3} - 240 x_{0}^{16} x_{1}^{2} - 144 x_{0}^{16} x_{1} - 16 x_{0}^{16} + 60 x_{0}^{15} x_{1}^{4} + 320 x_{0}^{15} x_{1}^{3} + 360 x_{0}^{15} x_{1}^{2} + 96 x_{0}^{15} x_{1} + 4 x_{0}^{15} - 24 x_{0}^{14} x_{1}^{5} - 240 x_{0}^{14} x_{1}^{4} - 480 x_{0}^{14} x_{1}^{3} - 240 x_{0}^{14} x_{1}^{2} - 24 x_{0}^{14} x_{1} + 4 x_{0}^{13} x_{1}^{6} + 96 x_{0}^{13} x_{1}^{5} + 360 x_{0}^{13} x_{1}^{4} + 320 x_{0}^{13} x_{1}^{3} + 60 x_{0}^{13} x_{1}^{2} - 16 x_{0}^{12} x_{1}^{6} - 144 x_{0}^{12} x_{1}^{5} - 240 x_{0}^{12} x_{1}^{4} - 80 x_{0}^{12} x_{1}^{3} + 24 x_{0}^{11} x_{1}^{6} + 96 x_{0}^{11} x_{1}^{5} + 60 x_{0}^{11} x_{1}^{4} - 16 x_{0}^{10} x_{1}^{6} - 24 x_{0}^{10} x_{1}^{5} + 4 x_{0}^{9} x_{1}^{6}}, \\gamma, domain=\\mathbb{Z} \\right)}$"
      ],
      "text/plain": [
       "Poly(0, x0, x, x1, 1/(4*x0**19 - 24*x0**18*x1 - 16*x0**18 + 60*x0**17*x1**2 + 96*x0**17*x1 + 24*x0**17 - 80*x0**16*x1**3 - 240*x0**16*x1**2 - 144*x0**16*x1 - 16*x0**16 + 60*x0**15*x1**4 + 320*x0**15*x1**3 + 360*x0**15*x1**2 + 96*x0**15*x1 + 4*x0**15 - 24*x0**14*x1**5 - 240*x0**14*x1**4 - 480*x0**14*x1**3 - 240*x0**14*x1**2 - 24*x0**14*x1 + 4*x0**13*x1**6 + 96*x0**13*x1**5 + 360*x0**13*x1**4 + 320*x0**13*x1**3 + 60*x0**13*x1**2 - 16*x0**12*x1**6 - 144*x0**12*x1**5 - 240*x0**12*x1**4 - 80*x0**12*x1**3 + 24*x0**11*x1**6 + 96*x0**11*x1**5 + 60*x0**11*x1**4 - 16*x0**10*x1**6 - 24*x0**10*x1**5 + 4*x0**9*x1**6), gamma, domain='ZZ')"
      ]
     },
     "execution_count": 46,
     "metadata": {},
     "output_type": "execute_result"
    }
   ],
   "source": [
    "remainder"
   ]
  },
  {
   "cell_type": "code",
   "execution_count": 52,
   "id": "486d50a3",
   "metadata": {},
   "outputs": [],
   "source": [
    "Z = V1 - x**10 * (x - 1)"
   ]
  },
  {
   "cell_type": "code",
   "execution_count": 57,
   "id": "c6fac072",
   "metadata": {},
   "outputs": [],
   "source": [
    "solution_gamma = smp.solve(Z.subs(x, x1), gamma)"
   ]
  },
  {
   "cell_type": "code",
   "execution_count": 58,
   "id": "74130567",
   "metadata": {},
   "outputs": [
    {
     "data": {
      "text/latex": [
       "$\\displaystyle \\frac{4 x_{0}^{9} x_{1}^{8} \\left(x_{0}^{4} x_{1} - x_{0}^{4} - 4 x_{0}^{3} x_{1} + 4 x_{0}^{3} + 6 x_{0}^{2} x_{1} - 6 x_{0}^{2} - 4 x_{0} x_{1} + 4 x_{0} + x_{1} - 1\\right)}{x_{0}^{26} x_{1}^{2} - 2 x_{0}^{26} x_{1} + x_{0}^{26} - 8 x_{0}^{25} x_{1}^{3} + 16 x_{0}^{25} x_{1}^{2} - 8 x_{0}^{25} x_{1} + 28 x_{0}^{24} x_{1}^{4} - 56 x_{0}^{24} x_{1}^{3} + 28 x_{0}^{24} x_{1}^{2} - 56 x_{0}^{23} x_{1}^{5} + 112 x_{0}^{23} x_{1}^{4} - 56 x_{0}^{23} x_{1}^{3} + 70 x_{0}^{22} x_{1}^{6} - 140 x_{0}^{22} x_{1}^{5} + 70 x_{0}^{22} x_{1}^{4} - 56 x_{0}^{21} x_{1}^{7} + 112 x_{0}^{21} x_{1}^{6} - 56 x_{0}^{21} x_{1}^{5} + 28 x_{0}^{20} x_{1}^{8} - 56 x_{0}^{20} x_{1}^{7} + 28 x_{0}^{20} x_{1}^{6} - 6 x_{0}^{19} x_{1}^{9} + 14 x_{0}^{19} x_{1}^{8} - 8 x_{0}^{19} x_{1}^{7} - 11 x_{0}^{18} x_{1}^{10} + 2 x_{0}^{18} x_{1}^{9} + 9 x_{0}^{18} x_{1}^{8} + 30 x_{0}^{17} x_{1}^{11} + 18 x_{0}^{17} x_{1}^{10} - 36 x_{0}^{17} x_{1}^{9} - 12 x_{0}^{17} x_{1}^{8} - 40 x_{0}^{16} x_{1}^{12} - 80 x_{0}^{16} x_{1}^{11} + 48 x_{0}^{16} x_{1}^{10} + 64 x_{0}^{16} x_{1}^{9} + 8 x_{0}^{16} x_{1}^{8} + 30 x_{0}^{15} x_{1}^{13} + 130 x_{0}^{15} x_{1}^{12} + 20 x_{0}^{15} x_{1}^{11} - 132 x_{0}^{15} x_{1}^{10} - 46 x_{0}^{15} x_{1}^{9} - 2 x_{0}^{15} x_{1}^{8} - 12 x_{0}^{14} x_{1}^{14} - 108 x_{0}^{14} x_{1}^{13} - 120 x_{0}^{14} x_{1}^{12} + 120 x_{0}^{14} x_{1}^{11} + 108 x_{0}^{14} x_{1}^{10} + 12 x_{0}^{14} x_{1}^{9} + 2 x_{0}^{13} x_{1}^{15} + 46 x_{0}^{13} x_{1}^{14} + 132 x_{0}^{13} x_{1}^{13} - 20 x_{0}^{13} x_{1}^{12} - 130 x_{0}^{13} x_{1}^{11} - 30 x_{0}^{13} x_{1}^{10} + x_{0}^{12} x_{1}^{16} - 8 x_{0}^{12} x_{1}^{15} - 64 x_{0}^{12} x_{1}^{14} - 48 x_{0}^{12} x_{1}^{13} + 80 x_{0}^{12} x_{1}^{12} + 40 x_{0}^{12} x_{1}^{11} - 4 x_{0}^{11} x_{1}^{17} - 8 x_{0}^{11} x_{1}^{16} + 12 x_{0}^{11} x_{1}^{15} + 36 x_{0}^{11} x_{1}^{14} - 18 x_{0}^{11} x_{1}^{13} - 30 x_{0}^{11} x_{1}^{12} + 6 x_{0}^{10} x_{1}^{18} + 32 x_{0}^{10} x_{1}^{17} + 28 x_{0}^{10} x_{1}^{16} - 8 x_{0}^{10} x_{1}^{15} - 4 x_{0}^{10} x_{1}^{14} + 12 x_{0}^{10} x_{1}^{13} - 4 x_{0}^{9} x_{1}^{19} - 48 x_{0}^{9} x_{1}^{18} - 112 x_{0}^{9} x_{1}^{17} - 56 x_{0}^{9} x_{1}^{16} + 2 x_{0}^{9} x_{1}^{15} - 2 x_{0}^{9} x_{1}^{14} + x_{0}^{8} x_{1}^{20} + 32 x_{0}^{8} x_{1}^{19} + 168 x_{0}^{8} x_{1}^{18} + 224 x_{0}^{8} x_{1}^{17} + 70 x_{0}^{8} x_{1}^{16} - 8 x_{0}^{7} x_{1}^{20} - 112 x_{0}^{7} x_{1}^{19} - 336 x_{0}^{7} x_{1}^{18} - 280 x_{0}^{7} x_{1}^{17} - 56 x_{0}^{7} x_{1}^{16} + 28 x_{0}^{6} x_{1}^{20} + 224 x_{0}^{6} x_{1}^{19} + 420 x_{0}^{6} x_{1}^{18} + 224 x_{0}^{6} x_{1}^{17} + 28 x_{0}^{6} x_{1}^{16} - 56 x_{0}^{5} x_{1}^{20} - 280 x_{0}^{5} x_{1}^{19} - 336 x_{0}^{5} x_{1}^{18} - 112 x_{0}^{5} x_{1}^{17} - 8 x_{0}^{5} x_{1}^{16} + 70 x_{0}^{4} x_{1}^{20} + 224 x_{0}^{4} x_{1}^{19} + 168 x_{0}^{4} x_{1}^{18} + 32 x_{0}^{4} x_{1}^{17} + x_{0}^{4} x_{1}^{16} - 56 x_{0}^{3} x_{1}^{20} - 112 x_{0}^{3} x_{1}^{19} - 48 x_{0}^{3} x_{1}^{18} - 4 x_{0}^{3} x_{1}^{17} + 28 x_{0}^{2} x_{1}^{20} + 32 x_{0}^{2} x_{1}^{19} + 6 x_{0}^{2} x_{1}^{18} - 8 x_{0} x_{1}^{20} - 4 x_{0} x_{1}^{19} + x_{1}^{20}}$"
      ],
      "text/plain": [
       "4*x0**9*x1**8*(x0**4*x1 - x0**4 - 4*x0**3*x1 + 4*x0**3 + 6*x0**2*x1 - 6*x0**2 - 4*x0*x1 + 4*x0 + x1 - 1)/(x0**26*x1**2 - 2*x0**26*x1 + x0**26 - 8*x0**25*x1**3 + 16*x0**25*x1**2 - 8*x0**25*x1 + 28*x0**24*x1**4 - 56*x0**24*x1**3 + 28*x0**24*x1**2 - 56*x0**23*x1**5 + 112*x0**23*x1**4 - 56*x0**23*x1**3 + 70*x0**22*x1**6 - 140*x0**22*x1**5 + 70*x0**22*x1**4 - 56*x0**21*x1**7 + 112*x0**21*x1**6 - 56*x0**21*x1**5 + 28*x0**20*x1**8 - 56*x0**20*x1**7 + 28*x0**20*x1**6 - 6*x0**19*x1**9 + 14*x0**19*x1**8 - 8*x0**19*x1**7 - 11*x0**18*x1**10 + 2*x0**18*x1**9 + 9*x0**18*x1**8 + 30*x0**17*x1**11 + 18*x0**17*x1**10 - 36*x0**17*x1**9 - 12*x0**17*x1**8 - 40*x0**16*x1**12 - 80*x0**16*x1**11 + 48*x0**16*x1**10 + 64*x0**16*x1**9 + 8*x0**16*x1**8 + 30*x0**15*x1**13 + 130*x0**15*x1**12 + 20*x0**15*x1**11 - 132*x0**15*x1**10 - 46*x0**15*x1**9 - 2*x0**15*x1**8 - 12*x0**14*x1**14 - 108*x0**14*x1**13 - 120*x0**14*x1**12 + 120*x0**14*x1**11 + 108*x0**14*x1**10 + 12*x0**14*x1**9 + 2*x0**13*x1**15 + 46*x0**13*x1**14 + 132*x0**13*x1**13 - 20*x0**13*x1**12 - 130*x0**13*x1**11 - 30*x0**13*x1**10 + x0**12*x1**16 - 8*x0**12*x1**15 - 64*x0**12*x1**14 - 48*x0**12*x1**13 + 80*x0**12*x1**12 + 40*x0**12*x1**11 - 4*x0**11*x1**17 - 8*x0**11*x1**16 + 12*x0**11*x1**15 + 36*x0**11*x1**14 - 18*x0**11*x1**13 - 30*x0**11*x1**12 + 6*x0**10*x1**18 + 32*x0**10*x1**17 + 28*x0**10*x1**16 - 8*x0**10*x1**15 - 4*x0**10*x1**14 + 12*x0**10*x1**13 - 4*x0**9*x1**19 - 48*x0**9*x1**18 - 112*x0**9*x1**17 - 56*x0**9*x1**16 + 2*x0**9*x1**15 - 2*x0**9*x1**14 + x0**8*x1**20 + 32*x0**8*x1**19 + 168*x0**8*x1**18 + 224*x0**8*x1**17 + 70*x0**8*x1**16 - 8*x0**7*x1**20 - 112*x0**7*x1**19 - 336*x0**7*x1**18 - 280*x0**7*x1**17 - 56*x0**7*x1**16 + 28*x0**6*x1**20 + 224*x0**6*x1**19 + 420*x0**6*x1**18 + 224*x0**6*x1**17 + 28*x0**6*x1**16 - 56*x0**5*x1**20 - 280*x0**5*x1**19 - 336*x0**5*x1**18 - 112*x0**5*x1**17 - 8*x0**5*x1**16 + 70*x0**4*x1**20 + 224*x0**4*x1**19 + 168*x0**4*x1**18 + 32*x0**4*x1**17 + x0**4*x1**16 - 56*x0**3*x1**20 - 112*x0**3*x1**19 - 48*x0**3*x1**18 - 4*x0**3*x1**17 + 28*x0**2*x1**20 + 32*x0**2*x1**19 + 6*x0**2*x1**18 - 8*x0*x1**20 - 4*x0*x1**19 + x1**20)"
      ]
     },
     "execution_count": 58,
     "metadata": {},
     "output_type": "execute_result"
    }
   ],
   "source": [
    "solution_gamma = solution_gamma[0]\n",
    "solution_gamma"
   ]
  },
  {
   "cell_type": "code",
   "execution_count": 59,
   "id": "c2461341",
   "metadata": {},
   "outputs": [],
   "source": [
    "Z = Z.subs(gamma, solution_gamma)"
   ]
  },
  {
   "cell_type": "code",
   "execution_count": 61,
   "id": "158f1ee4",
   "metadata": {},
   "outputs": [
    {
     "ename": "UnificationFailed",
     "evalue": "Cannot unify ZZ with ZZ[x1], given (x0, x, x1, 1/(4*x0**19 - 24*x0**18*x1 - 16*x0**18 + 60*x0**17*x1**2 + 96*x0**17*x1 + 24*x0**17 - 80*x0**16*x1**3 - 240*x0**16*x1**2 - 144*x0**16*x1 - 16*x0**16 + 60*x0**15*x1**4 + 320*x0**15*x1**3 + 360*x0**15*x1**2 + 96*x0**15*x1 + 4*x0**15 - 24*x0**14*x1**5 - 240*x0**14*x1**4 - 480*x0**14*x1**3 - 240*x0**14*x1**2 - 24*x0**14*x1 + 4*x0**13*x1**6 + 96*x0**13*x1**5 + 360*x0**13*x1**4 + 320*x0**13*x1**3 + 60*x0**13*x1**2 - 16*x0**12*x1**6 - 144*x0**12*x1**5 - 240*x0**12*x1**4 - 80*x0**12*x1**3 + 24*x0**11*x1**6 + 96*x0**11*x1**5 + 60*x0**11*x1**4 - 16*x0**10*x1**6 - 24*x0**10*x1**5 + 4*x0**9*x1**6), 4*x0**9*x1**8*(x0**4*x1 - x0**4 - 4*x0**3*x1 + 4*x0**3 + 6*x0**2*x1 - 6*x0**2 - 4*x0*x1 + 4*x0 + x1 - 1)/(x0**26*x1**2 - 2*x0**26*x1 + x0**26 - 8*x0**25*x1**3 + 16*x0**25*x1**2 - 8*x0**25*x1 + 28*x0**24*x1**4 - 56*x0**24*x1**3 + 28*x0**24*x1**2 - 56*x0**23*x1**5 + 112*x0**23*x1**4 - 56*x0**23*x1**3 + 70*x0**22*x1**6 - 140*x0**22*x1**5 + 70*x0**22*x1**4 - 56*x0**21*x1**7 + 112*x0**21*x1**6 - 56*x0**21*x1**5 + 28*x0**20*x1**8 - 56*x0**20*x1**7 + 28*x0**20*x1**6 - 6*x0**19*x1**9 + 14*x0**19*x1**8 - 8*x0**19*x1**7 - 11*x0**18*x1**10 + 2*x0**18*x1**9 + 9*x0**18*x1**8 + 30*x0**17*x1**11 + 18*x0**17*x1**10 - 36*x0**17*x1**9 - 12*x0**17*x1**8 - 40*x0**16*x1**12 - 80*x0**16*x1**11 + 48*x0**16*x1**10 + 64*x0**16*x1**9 + 8*x0**16*x1**8 + 30*x0**15*x1**13 + 130*x0**15*x1**12 + 20*x0**15*x1**11 - 132*x0**15*x1**10 - 46*x0**15*x1**9 - 2*x0**15*x1**8 - 12*x0**14*x1**14 - 108*x0**14*x1**13 - 120*x0**14*x1**12 + 120*x0**14*x1**11 + 108*x0**14*x1**10 + 12*x0**14*x1**9 + 2*x0**13*x1**15 + 46*x0**13*x1**14 + 132*x0**13*x1**13 - 20*x0**13*x1**12 - 130*x0**13*x1**11 - 30*x0**13*x1**10 + x0**12*x1**16 - 8*x0**12*x1**15 - 64*x0**12*x1**14 - 48*x0**12*x1**13 + 80*x0**12*x1**12 + 40*x0**12*x1**11 - 4*x0**11*x1**17 - 8*x0**11*x1**16 + 12*x0**11*x1**15 + 36*x0**11*x1**14 - 18*x0**11*x1**13 - 30*x0**11*x1**12 + 6*x0**10*x1**18 + 32*x0**10*x1**17 + 28*x0**10*x1**16 - 8*x0**10*x1**15 - 4*x0**10*x1**14 + 12*x0**10*x1**13 - 4*x0**9*x1**19 - 48*x0**9*x1**18 - 112*x0**9*x1**17 - 56*x0**9*x1**16 + 2*x0**9*x1**15 - 2*x0**9*x1**14 + x0**8*x1**20 + 32*x0**8*x1**19 + 168*x0**8*x1**18 + 224*x0**8*x1**17 + 70*x0**8*x1**16 - 8*x0**7*x1**20 - 112*x0**7*x1**19 - 336*x0**7*x1**18 - 280*x0**7*x1**17 - 56*x0**7*x1**16 + 28*x0**6*x1**20 + 224*x0**6*x1**19 + 420*x0**6*x1**18 + 224*x0**6*x1**17 + 28*x0**6*x1**16 - 56*x0**5*x1**20 - 280*x0**5*x1**19 - 336*x0**5*x1**18 - 112*x0**5*x1**17 - 8*x0**5*x1**16 + 70*x0**4*x1**20 + 224*x0**4*x1**19 + 168*x0**4*x1**18 + 32*x0**4*x1**17 + x0**4*x1**16 - 56*x0**3*x1**20 - 112*x0**3*x1**19 - 48*x0**3*x1**18 - 4*x0**3*x1**17 + 28*x0**2*x1**20 + 32*x0**2*x1**19 + 6*x0**2*x1**18 - 8*x0*x1**20 - 4*x0*x1**19 + x1**20)) generators",
     "output_type": "error",
     "traceback": [
      "\u001b[1;31m---------------------------------------------------------------------------\u001b[0m",
      "\u001b[1;31mUnificationFailed\u001b[0m                         Traceback (most recent call last)",
      "Cell \u001b[1;32mIn[61], line 3\u001b[0m\n\u001b[0;32m      1\u001b[0m p2 \u001b[38;5;241m=\u001b[39m smp\u001b[38;5;241m.\u001b[39mPoly((x \u001b[38;5;241m-\u001b[39m x1), x)\n\u001b[1;32m----> 3\u001b[0m quotient, remainder \u001b[38;5;241m=\u001b[39m \u001b[43msmp\u001b[49m\u001b[38;5;241;43m.\u001b[39;49m\u001b[43mdiv\u001b[49m\u001b[43m(\u001b[49m\u001b[43mZ\u001b[49m\u001b[43m,\u001b[49m\u001b[43m \u001b[49m\u001b[43mp2\u001b[49m\u001b[43m)\u001b[49m\n",
      "File \u001b[1;32mc:\\Users\\Mirom\\Desktop\\NIR\\NIR\\.venv\\Lib\\site-packages\\sympy\\polys\\polytools.py:5011\u001b[0m, in \u001b[0;36mdiv\u001b[1;34m(f, g, *gens, **args)\u001b[0m\n\u001b[0;32m   5008\u001b[0m options\u001b[38;5;241m.\u001b[39mallowed_flags(args, [\u001b[38;5;124m'\u001b[39m\u001b[38;5;124mauto\u001b[39m\u001b[38;5;124m'\u001b[39m, \u001b[38;5;124m'\u001b[39m\u001b[38;5;124mpolys\u001b[39m\u001b[38;5;124m'\u001b[39m])\n\u001b[0;32m   5010\u001b[0m \u001b[38;5;28;01mtry\u001b[39;00m:\n\u001b[1;32m-> 5011\u001b[0m     (F, G), opt \u001b[38;5;241m=\u001b[39m \u001b[43mparallel_poly_from_expr\u001b[49m\u001b[43m(\u001b[49m\u001b[43m(\u001b[49m\u001b[43mf\u001b[49m\u001b[43m,\u001b[49m\u001b[43m \u001b[49m\u001b[43mg\u001b[49m\u001b[43m)\u001b[49m\u001b[43m,\u001b[49m\u001b[43m \u001b[49m\u001b[38;5;241;43m*\u001b[39;49m\u001b[43mgens\u001b[49m\u001b[43m,\u001b[49m\u001b[43m \u001b[49m\u001b[38;5;241;43m*\u001b[39;49m\u001b[38;5;241;43m*\u001b[39;49m\u001b[43margs\u001b[49m\u001b[43m)\u001b[49m\n\u001b[0;32m   5012\u001b[0m \u001b[38;5;28;01mexcept\u001b[39;00m PolificationFailed \u001b[38;5;28;01mas\u001b[39;00m exc:\n\u001b[0;32m   5013\u001b[0m     \u001b[38;5;28;01mraise\u001b[39;00m ComputationFailed(\u001b[38;5;124m'\u001b[39m\u001b[38;5;124mdiv\u001b[39m\u001b[38;5;124m'\u001b[39m, \u001b[38;5;241m2\u001b[39m, exc)\n",
      "File \u001b[1;32mc:\\Users\\Mirom\\Desktop\\NIR\\NIR\\.venv\\Lib\\site-packages\\sympy\\polys\\polytools.py:4538\u001b[0m, in \u001b[0;36mparallel_poly_from_expr\u001b[1;34m(exprs, *gens, **args)\u001b[0m\n\u001b[0;32m   4536\u001b[0m \u001b[38;5;250m\u001b[39m\u001b[38;5;124;03m\"\"\"Construct polynomials from expressions. \"\"\"\u001b[39;00m\n\u001b[0;32m   4537\u001b[0m opt \u001b[38;5;241m=\u001b[39m options\u001b[38;5;241m.\u001b[39mbuild_options(gens, args)\n\u001b[1;32m-> 4538\u001b[0m \u001b[38;5;28;01mreturn\u001b[39;00m \u001b[43m_parallel_poly_from_expr\u001b[49m\u001b[43m(\u001b[49m\u001b[43mexprs\u001b[49m\u001b[43m,\u001b[49m\u001b[43m \u001b[49m\u001b[43mopt\u001b[49m\u001b[43m)\u001b[49m\n",
      "File \u001b[1;32mc:\\Users\\Mirom\\Desktop\\NIR\\NIR\\.venv\\Lib\\site-packages\\sympy\\polys\\polytools.py:4550\u001b[0m, in \u001b[0;36m_parallel_poly_from_expr\u001b[1;34m(exprs, opt)\u001b[0m\n\u001b[0;32m   4547\u001b[0m f \u001b[38;5;241m=\u001b[39m f\u001b[38;5;241m.\u001b[39m\u001b[38;5;18m__class__\u001b[39m\u001b[38;5;241m.\u001b[39m_from_poly(f, opt)\n\u001b[0;32m   4548\u001b[0m g \u001b[38;5;241m=\u001b[39m g\u001b[38;5;241m.\u001b[39m\u001b[38;5;18m__class__\u001b[39m\u001b[38;5;241m.\u001b[39m_from_poly(g, opt)\n\u001b[1;32m-> 4550\u001b[0m f, g \u001b[38;5;241m=\u001b[39m \u001b[43mf\u001b[49m\u001b[38;5;241;43m.\u001b[39;49m\u001b[43munify\u001b[49m\u001b[43m(\u001b[49m\u001b[43mg\u001b[49m\u001b[43m)\u001b[49m\n\u001b[0;32m   4552\u001b[0m opt\u001b[38;5;241m.\u001b[39mgens \u001b[38;5;241m=\u001b[39m f\u001b[38;5;241m.\u001b[39mgens\n\u001b[0;32m   4553\u001b[0m opt\u001b[38;5;241m.\u001b[39mdomain \u001b[38;5;241m=\u001b[39m f\u001b[38;5;241m.\u001b[39mdomain\n",
      "File \u001b[1;32mc:\\Users\\Mirom\\Desktop\\NIR\\NIR\\.venv\\Lib\\site-packages\\sympy\\polys\\polytools.py:472\u001b[0m, in \u001b[0;36mPoly.unify\u001b[1;34m(f, g)\u001b[0m\n\u001b[0;32m    447\u001b[0m \u001b[38;5;28;01mdef\u001b[39;00m \u001b[38;5;21munify\u001b[39m(f, g):\n\u001b[0;32m    448\u001b[0m \u001b[38;5;250m    \u001b[39m\u001b[38;5;124;03m\"\"\"\u001b[39;00m\n\u001b[0;32m    449\u001b[0m \u001b[38;5;124;03m    Make ``f`` and ``g`` belong to the same domain.\u001b[39;00m\n\u001b[0;32m    450\u001b[0m \n\u001b[1;32m   (...)\u001b[0m\n\u001b[0;32m    470\u001b[0m \n\u001b[0;32m    471\u001b[0m \u001b[38;5;124;03m    \"\"\"\u001b[39;00m\n\u001b[1;32m--> 472\u001b[0m     _, per, F, G \u001b[38;5;241m=\u001b[39m \u001b[43mf\u001b[49m\u001b[38;5;241;43m.\u001b[39;49m\u001b[43m_unify\u001b[49m\u001b[43m(\u001b[49m\u001b[43mg\u001b[49m\u001b[43m)\u001b[49m\n\u001b[0;32m    473\u001b[0m     \u001b[38;5;28;01mreturn\u001b[39;00m per(F), per(G)\n",
      "File \u001b[1;32mc:\\Users\\Mirom\\Desktop\\NIR\\NIR\\.venv\\Lib\\site-packages\\sympy\\polys\\polytools.py:489\u001b[0m, in \u001b[0;36mPoly._unify\u001b[1;34m(f, g)\u001b[0m\n\u001b[0;32m    486\u001b[0m \u001b[38;5;28;01mif\u001b[39;00m \u001b[38;5;28misinstance\u001b[39m(f\u001b[38;5;241m.\u001b[39mrep, DMP) \u001b[38;5;129;01mand\u001b[39;00m \u001b[38;5;28misinstance\u001b[39m(g\u001b[38;5;241m.\u001b[39mrep, DMP):\n\u001b[0;32m    487\u001b[0m     gens \u001b[38;5;241m=\u001b[39m _unify_gens(f\u001b[38;5;241m.\u001b[39mgens, g\u001b[38;5;241m.\u001b[39mgens)\n\u001b[1;32m--> 489\u001b[0m     dom, lev \u001b[38;5;241m=\u001b[39m \u001b[43mf\u001b[49m\u001b[38;5;241;43m.\u001b[39;49m\u001b[43mrep\u001b[49m\u001b[38;5;241;43m.\u001b[39;49m\u001b[43mdom\u001b[49m\u001b[38;5;241;43m.\u001b[39;49m\u001b[43munify\u001b[49m\u001b[43m(\u001b[49m\u001b[43mg\u001b[49m\u001b[38;5;241;43m.\u001b[39;49m\u001b[43mrep\u001b[49m\u001b[38;5;241;43m.\u001b[39;49m\u001b[43mdom\u001b[49m\u001b[43m,\u001b[49m\u001b[43m \u001b[49m\u001b[43mgens\u001b[49m\u001b[43m)\u001b[49m, \u001b[38;5;28mlen\u001b[39m(gens) \u001b[38;5;241m-\u001b[39m \u001b[38;5;241m1\u001b[39m\n\u001b[0;32m    491\u001b[0m     \u001b[38;5;28;01mif\u001b[39;00m f\u001b[38;5;241m.\u001b[39mgens \u001b[38;5;241m!=\u001b[39m gens:\n\u001b[0;32m    492\u001b[0m         f_monoms, f_coeffs \u001b[38;5;241m=\u001b[39m _dict_reorder(\n\u001b[0;32m    493\u001b[0m             f\u001b[38;5;241m.\u001b[39mrep\u001b[38;5;241m.\u001b[39mto_dict(), f\u001b[38;5;241m.\u001b[39mgens, gens)\n",
      "File \u001b[1;32mc:\\Users\\Mirom\\Desktop\\NIR\\NIR\\.venv\\Lib\\site-packages\\sympy\\polys\\domains\\domain.py:727\u001b[0m, in \u001b[0;36mDomain.unify\u001b[1;34m(K0, K1, symbols)\u001b[0m\n\u001b[0;32m    710\u001b[0m \u001b[38;5;250m\u001b[39m\u001b[38;5;124;03m\"\"\"\u001b[39;00m\n\u001b[0;32m    711\u001b[0m \u001b[38;5;124;03mConstruct a minimal domain that contains elements of ``K0`` and ``K1``.\u001b[39;00m\n\u001b[0;32m    712\u001b[0m \n\u001b[1;32m   (...)\u001b[0m\n\u001b[0;32m    724\u001b[0m \n\u001b[0;32m    725\u001b[0m \u001b[38;5;124;03m\"\"\"\u001b[39;00m\n\u001b[0;32m    726\u001b[0m \u001b[38;5;28;01mif\u001b[39;00m symbols \u001b[38;5;129;01mis\u001b[39;00m \u001b[38;5;129;01mnot\u001b[39;00m \u001b[38;5;28;01mNone\u001b[39;00m:\n\u001b[1;32m--> 727\u001b[0m     \u001b[38;5;28;01mreturn\u001b[39;00m \u001b[43mK0\u001b[49m\u001b[38;5;241;43m.\u001b[39;49m\u001b[43munify_with_symbols\u001b[49m\u001b[43m(\u001b[49m\u001b[43mK1\u001b[49m\u001b[43m,\u001b[49m\u001b[43m \u001b[49m\u001b[43msymbols\u001b[49m\u001b[43m)\u001b[49m\n\u001b[0;32m    729\u001b[0m \u001b[38;5;28;01mif\u001b[39;00m K0 \u001b[38;5;241m==\u001b[39m K1:\n\u001b[0;32m    730\u001b[0m     \u001b[38;5;28;01mreturn\u001b[39;00m K0\n",
      "File \u001b[1;32mc:\\Users\\Mirom\\Desktop\\NIR\\NIR\\.venv\\Lib\\site-packages\\sympy\\polys\\domains\\domain.py:672\u001b[0m, in \u001b[0;36mDomain.unify_with_symbols\u001b[1;34m(K0, K1, symbols)\u001b[0m\n\u001b[0;32m    670\u001b[0m \u001b[38;5;28;01mdef\u001b[39;00m \u001b[38;5;21munify_with_symbols\u001b[39m(K0, K1, symbols):\n\u001b[0;32m    671\u001b[0m     \u001b[38;5;28;01mif\u001b[39;00m (K0\u001b[38;5;241m.\u001b[39mis_Composite \u001b[38;5;129;01mand\u001b[39;00m (\u001b[38;5;28mset\u001b[39m(K0\u001b[38;5;241m.\u001b[39msymbols) \u001b[38;5;241m&\u001b[39m \u001b[38;5;28mset\u001b[39m(symbols))) \u001b[38;5;129;01mor\u001b[39;00m (K1\u001b[38;5;241m.\u001b[39mis_Composite \u001b[38;5;129;01mand\u001b[39;00m (\u001b[38;5;28mset\u001b[39m(K1\u001b[38;5;241m.\u001b[39msymbols) \u001b[38;5;241m&\u001b[39m \u001b[38;5;28mset\u001b[39m(symbols))):\n\u001b[1;32m--> 672\u001b[0m         \u001b[38;5;28;01mraise\u001b[39;00m UnificationFailed(\u001b[38;5;124m\"\u001b[39m\u001b[38;5;124mCannot unify \u001b[39m\u001b[38;5;132;01m%s\u001b[39;00m\u001b[38;5;124m with \u001b[39m\u001b[38;5;132;01m%s\u001b[39;00m\u001b[38;5;124m, given \u001b[39m\u001b[38;5;132;01m%s\u001b[39;00m\u001b[38;5;124m generators\u001b[39m\u001b[38;5;124m\"\u001b[39m \u001b[38;5;241m%\u001b[39m (K0, K1, \u001b[38;5;28mtuple\u001b[39m(symbols)))\n\u001b[0;32m    674\u001b[0m     \u001b[38;5;28;01mreturn\u001b[39;00m K0\u001b[38;5;241m.\u001b[39munify(K1)\n",
      "\u001b[1;31mUnificationFailed\u001b[0m: Cannot unify ZZ with ZZ[x1], given (x0, x, x1, 1/(4*x0**19 - 24*x0**18*x1 - 16*x0**18 + 60*x0**17*x1**2 + 96*x0**17*x1 + 24*x0**17 - 80*x0**16*x1**3 - 240*x0**16*x1**2 - 144*x0**16*x1 - 16*x0**16 + 60*x0**15*x1**4 + 320*x0**15*x1**3 + 360*x0**15*x1**2 + 96*x0**15*x1 + 4*x0**15 - 24*x0**14*x1**5 - 240*x0**14*x1**4 - 480*x0**14*x1**3 - 240*x0**14*x1**2 - 24*x0**14*x1 + 4*x0**13*x1**6 + 96*x0**13*x1**5 + 360*x0**13*x1**4 + 320*x0**13*x1**3 + 60*x0**13*x1**2 - 16*x0**12*x1**6 - 144*x0**12*x1**5 - 240*x0**12*x1**4 - 80*x0**12*x1**3 + 24*x0**11*x1**6 + 96*x0**11*x1**5 + 60*x0**11*x1**4 - 16*x0**10*x1**6 - 24*x0**10*x1**5 + 4*x0**9*x1**6), 4*x0**9*x1**8*(x0**4*x1 - x0**4 - 4*x0**3*x1 + 4*x0**3 + 6*x0**2*x1 - 6*x0**2 - 4*x0*x1 + 4*x0 + x1 - 1)/(x0**26*x1**2 - 2*x0**26*x1 + x0**26 - 8*x0**25*x1**3 + 16*x0**25*x1**2 - 8*x0**25*x1 + 28*x0**24*x1**4 - 56*x0**24*x1**3 + 28*x0**24*x1**2 - 56*x0**23*x1**5 + 112*x0**23*x1**4 - 56*x0**23*x1**3 + 70*x0**22*x1**6 - 140*x0**22*x1**5 + 70*x0**22*x1**4 - 56*x0**21*x1**7 + 112*x0**21*x1**6 - 56*x0**21*x1**5 + 28*x0**20*x1**8 - 56*x0**20*x1**7 + 28*x0**20*x1**6 - 6*x0**19*x1**9 + 14*x0**19*x1**8 - 8*x0**19*x1**7 - 11*x0**18*x1**10 + 2*x0**18*x1**9 + 9*x0**18*x1**8 + 30*x0**17*x1**11 + 18*x0**17*x1**10 - 36*x0**17*x1**9 - 12*x0**17*x1**8 - 40*x0**16*x1**12 - 80*x0**16*x1**11 + 48*x0**16*x1**10 + 64*x0**16*x1**9 + 8*x0**16*x1**8 + 30*x0**15*x1**13 + 130*x0**15*x1**12 + 20*x0**15*x1**11 - 132*x0**15*x1**10 - 46*x0**15*x1**9 - 2*x0**15*x1**8 - 12*x0**14*x1**14 - 108*x0**14*x1**13 - 120*x0**14*x1**12 + 120*x0**14*x1**11 + 108*x0**14*x1**10 + 12*x0**14*x1**9 + 2*x0**13*x1**15 + 46*x0**13*x1**14 + 132*x0**13*x1**13 - 20*x0**13*x1**12 - 130*x0**13*x1**11 - 30*x0**13*x1**10 + x0**12*x1**16 - 8*x0**12*x1**15 - 64*x0**12*x1**14 - 48*x0**12*x1**13 + 80*x0**12*x1**12 + 40*x0**12*x1**11 - 4*x0**11*x1**17 - 8*x0**11*x1**16 + 12*x0**11*x1**15 + 36*x0**11*x1**14 - 18*x0**11*x1**13 - 30*x0**11*x1**12 + 6*x0**10*x1**18 + 32*x0**10*x1**17 + 28*x0**10*x1**16 - 8*x0**10*x1**15 - 4*x0**10*x1**14 + 12*x0**10*x1**13 - 4*x0**9*x1**19 - 48*x0**9*x1**18 - 112*x0**9*x1**17 - 56*x0**9*x1**16 + 2*x0**9*x1**15 - 2*x0**9*x1**14 + x0**8*x1**20 + 32*x0**8*x1**19 + 168*x0**8*x1**18 + 224*x0**8*x1**17 + 70*x0**8*x1**16 - 8*x0**7*x1**20 - 112*x0**7*x1**19 - 336*x0**7*x1**18 - 280*x0**7*x1**17 - 56*x0**7*x1**16 + 28*x0**6*x1**20 + 224*x0**6*x1**19 + 420*x0**6*x1**18 + 224*x0**6*x1**17 + 28*x0**6*x1**16 - 56*x0**5*x1**20 - 280*x0**5*x1**19 - 336*x0**5*x1**18 - 112*x0**5*x1**17 - 8*x0**5*x1**16 + 70*x0**4*x1**20 + 224*x0**4*x1**19 + 168*x0**4*x1**18 + 32*x0**4*x1**17 + x0**4*x1**16 - 56*x0**3*x1**20 - 112*x0**3*x1**19 - 48*x0**3*x1**18 - 4*x0**3*x1**17 + 28*x0**2*x1**20 + 32*x0**2*x1**19 + 6*x0**2*x1**18 - 8*x0*x1**20 - 4*x0*x1**19 + x1**20)) generators"
     ]
    }
   ],
   "source": [
    "p2 = smp.Poly((x - x1)**6, x)\n",
    "\n",
    "quotient, remainder = smp.div(Z, p2)"
   ]
  },
  {
   "cell_type": "code",
   "execution_count": null,
   "id": "e7a84d3b",
   "metadata": {},
   "outputs": [],
   "source": [
    "remainder "
   ]
  },
  {
   "cell_type": "code",
   "execution_count": 21,
   "id": "883502ec-c801-4e38-8a84-71536f23bd21",
   "metadata": {},
   "outputs": [],
   "source": [
    "f = quotient"
   ]
  },
  {
   "cell_type": "code",
   "execution_count": 24,
   "id": "b0b16811-5339-48e3-b663-0e4ecc70f2c5",
   "metadata": {},
   "outputs": [],
   "source": [
    "coeffs = f.all_coeffs()"
   ]
  },
  {
   "cell_type": "code",
   "execution_count": null,
   "id": "4f084808",
   "metadata": {},
   "outputs": [],
   "source": [
    "print(coeffs[1])"
   ]
  },
  {
   "cell_type": "code",
   "execution_count": null,
   "id": "c2bb8f17",
   "metadata": {},
   "outputs": [],
   "source": [
    "eq1 = smp.Eq(coeffs[0], 0)\n",
    "eq2 = smp.Eq(coeffs[1], -gamma)\n",
    "\n",
    "# Solve the system of equations for w\n",
    "solution_gamma = smp.solve([eq1, eq2], gamma)\n",
    "gamma_solution = solution_gamma[0][0]\n",
    "gamma_solution"
   ]
  },
  {
   "cell_type": "code",
   "execution_count": 27,
   "id": "9218b6b6",
   "metadata": {},
   "outputs": [],
   "source": [
    "f = f.subs(gamma, gamma_solution).simplify()"
   ]
  },
  {
   "cell_type": "code",
   "execution_count": null,
   "id": "0ad83d28",
   "metadata": {},
   "outputs": [],
   "source": [
    "print(f)"
   ]
  },
  {
   "cell_type": "code",
   "execution_count": 29,
   "id": "040a975d-0491-4d6b-b2b5-f58236a7257a",
   "metadata": {},
   "outputs": [],
   "source": [
    "def factor_coeffs(f, val):\n",
    "    return sum(smp.factor(coeff)*val**i for i, coeff in enumerate(reversed(smp.Poly(f, val).all_coeffs())))"
   ]
  },
  {
   "cell_type": "code",
   "execution_count": null,
   "id": "1bdd75d8-1a3f-4bad-bae9-498eb71622c0",
   "metadata": {},
   "outputs": [],
   "source": [
    "f_main = factor_coeffs(f, x)\n",
    "f"
   ]
  },
  {
   "cell_type": "code",
   "execution_count": null,
   "id": "d6134b00",
   "metadata": {},
   "outputs": [],
   "source": [
    "f_main.as_expr()"
   ]
  },
  {
   "cell_type": "code",
   "execution_count": 32,
   "id": "0fdadeb7",
   "metadata": {},
   "outputs": [],
   "source": [
    "calc = MagmaCalculator()"
   ]
  },
  {
   "cell_type": "code",
   "execution_count": 33,
   "id": "a5c2cf78",
   "metadata": {},
   "outputs": [],
   "source": [
    "def check_order(equation):\n",
    "    \"\"\"Function that helps to check an order of possible torison points of given function\"\"\"\n",
    "    code = f\"\"\"\n",
    "    P<x> := PolynomialRing(Rationals());\n",
    "    C1 := HyperellipticCurve({equation});\n",
    "    J1 := Jacobian(C1);\n",
    "    TorsionSubgroup(J1);\n",
    "    ClebschInvariants(C1);\n",
    "    IgusaClebschInvariants(C1);\n",
    "    IgusaInvariants(C1);\"\"\"\n",
    "    calc.submit_code(code)"
   ]
  },
  {
   "cell_type": "code",
   "execution_count": 34,
   "id": "6db2223f",
   "metadata": {},
   "outputs": [],
   "source": [
    "def get_magma_expr(f):\n",
    "    content, primitive_poly = f.as_content_primitive() \n",
    "    integer_poly = primitive_poly * content.denominator  \n",
    "    integer_poly = smp.Poly(integer_poly, x)\n",
    "    magma_expr = str(integer_poly.as_expr()).replace('**', '^')\n",
    "    return magma_expr"
   ]
  },
  {
   "cell_type": "code",
   "execution_count": 35,
   "id": "4e806191",
   "metadata": {},
   "outputs": [],
   "source": [
    "def curve_search(rang):\n",
    "    for value in range(rang[0],rang[1]):\n",
    "        f = f_main.subs(x0,value)\n",
    "        magma_expr = get_magma_expr(f)\n",
    "        check_order(magma_expr)"
   ]
  },
  {
   "cell_type": "code",
   "execution_count": 37,
   "id": "77fab6c1",
   "metadata": {},
   "outputs": [],
   "source": [
    "curve_search([10,20])"
   ]
  },
  {
   "cell_type": "code",
   "execution_count": null,
   "id": "f34919da-2bc9-498a-baec-cc8c3a8399c1",
   "metadata": {},
   "outputs": [],
   "source": [
    "print(smp.latex(f.as_expr()))"
   ]
  },
  {
   "cell_type": "code",
   "execution_count": null,
   "id": "5470f313-fbf6-4a24-9937-fdc549504d8a",
   "metadata": {},
   "outputs": [],
   "source": []
  },
  {
   "cell_type": "code",
   "execution_count": null,
   "id": "4e586458-3347-45bb-9d6d-02bed788a644",
   "metadata": {},
   "outputs": [],
   "source": []
  }
 ],
 "metadata": {
  "kernelspec": {
   "display_name": ".venv",
   "language": "python",
   "name": "python3"
  },
  "language_info": {
   "codemirror_mode": {
    "name": "ipython",
    "version": 3
   },
   "file_extension": ".py",
   "mimetype": "text/x-python",
   "name": "python",
   "nbconvert_exporter": "python",
   "pygments_lexer": "ipython3",
   "version": "3.12.4"
  }
 },
 "nbformat": 4,
 "nbformat_minor": 5
}
