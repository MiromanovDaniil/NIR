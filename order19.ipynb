{
 "cells": [
  {
   "cell_type": "code",
   "execution_count": 2,
   "id": "f0986d40-42f5-48c1-bc63-ff3e9887c8e3",
   "metadata": {},
   "outputs": [],
   "source": [
    "import sympy as smp\n",
    "import numpy as np\n",
    "from selenium import webdriver\n",
    "from selenium.webdriver.common.by import By\n",
    "import time"
   ]
  },
  {
   "cell_type": "code",
   "execution_count": 3,
   "id": "3dcf2373",
   "metadata": {},
   "outputs": [],
   "source": [
    "class FileSystemManager:\n",
    "    def __init__(self):\n",
    "        pass\n",
    "\n",
    "    def open_file(self, text, filepath, flag):\n",
    "        \"\"\"\n",
    "        Opens a file in read, write, or append mode.\n",
    "        \n",
    "        :param text: Text to write to the file if flag is 'w' or 'a'\n",
    "        :param filepath: Path of the file to open\n",
    "        :param flag: 'r' to read, 'w' to write, 'a' to append\n",
    "        :return: File content if reading, None if writing or appending\n",
    "        \"\"\"\n",
    "        try:\n",
    "            if flag == 'r':\n",
    "                with open(filepath, 'r') as f:\n",
    "                    data = f.read()\n",
    "                    return data  # return instead of print\n",
    "            elif flag == 'w':\n",
    "                with open(filepath, 'w') as f:\n",
    "                    f.write(text)\n",
    "            elif flag == 'a':\n",
    "                with open(filepath, 'a') as f:\n",
    "                    f.write(text)\n",
    "            else:\n",
    "                raise ValueError(\"Unsupported flag. Use 'r' for read, 'w' for write, or 'a' for append.\")\n",
    "        except FileNotFoundError:\n",
    "            print(f\"Error: File {filepath} not found.\")\n",
    "        except IOError as e:\n",
    "            print(f\"Error accessing file {filepath}: {e}\")"
   ]
  },
  {
   "cell_type": "code",
   "execution_count": 4,
   "id": "8dda1401",
   "metadata": {},
   "outputs": [],
   "source": [
    "class MagmaCalculator:\n",
    "    \"\"\"\n",
    "    A class to interact with the Magma Calculator webpage and submit code for evaluation.\n",
    "    \n",
    "    Attributes:\n",
    "    ----------\n",
    "    output_file : str\n",
    "        The name of the file where the output from the Magma Calculator will be saved.\n",
    "    driver : webdriver.Chrome\n",
    "        A Chrome web driver instance to automate browser interaction.\n",
    "    url : str\n",
    "        The URL of the Magma Calculator page.\n",
    "    \n",
    "    Methods:\n",
    "    -------\n",
    "    submit_code(code):\n",
    "        Submits the given Magma code to the calculator and saves the result to a file.\n",
    "    \n",
    "    close():\n",
    "        Closes the browser session.\n",
    "    \"\"\"\n",
    "    \n",
    "    def __init__(self, output_file=\"MagmaCalcResult\"):\n",
    "        \"\"\"\n",
    "        Initializes the MagmaCalculator with the given output file name.\n",
    "        \n",
    "        Parameters:\n",
    "        ----------\n",
    "        output_file : str, optional\n",
    "            The name of the file where the result will be saved (default is \"output.txt\").\n",
    "        \"\"\"\n",
    "        self.url = \"http://magma.maths.usyd.edu.au/calc/\"\n",
    "        self.output_file = output_file\n",
    "        self.file_manager = FileSystemManager()\n",
    "\n",
    "    def submit_code(self, code):\n",
    "        \"\"\"\n",
    "        Submits the given code to the Magma Calculator and saves the result to the output file.\n",
    "        \n",
    "        Parameters:\n",
    "        ----------\n",
    "        code : str\n",
    "            The Magma code to be submitted for evaluation.\n",
    "        \n",
    "        Actions:\n",
    "        -------\n",
    "        - Opens the Magma Calculator webpage.\n",
    "        - Finds the input box and enters the code.\n",
    "        - Clicks the submit button.\n",
    "        - Waits for the result to load.\n",
    "        - Retrieves the result and writes it to the specified output file.\n",
    "        \"\"\"\n",
    "        driver = webdriver.Chrome()\n",
    "        try:\n",
    "            driver.get(self.url)\n",
    "            \n",
    "            input_box = driver.find_element(By.ID, \"input\")\n",
    "            input_box.clear()\n",
    "            input_box.send_keys(code)\n",
    "            \n",
    "            submit_button = driver.find_element(By.XPATH, \"//input[@value='Submit']\")\n",
    "            submit_button.click()\n",
    "            \n",
    "            time.sleep(5)\n",
    "            \n",
    "            result_element = driver.find_element(By.ID, \"result\")\n",
    "            result_text = result_element.get_attribute('value')\n",
    "            \n",
    "            self.file_manager.open_file(code + '\\n' + result_text, self.output_file, 'a')\n",
    "        finally:\n",
    "            driver.quit()"
   ]
  },
  {
   "cell_type": "code",
   "execution_count": 5,
   "id": "3479e8bf-85c9-4829-8798-6870ee7f7e11",
   "metadata": {},
   "outputs": [],
   "source": [
    "x, x0, w, gamma = smp.symbols('x x0 w gamma')"
   ]
  },
  {
   "cell_type": "code",
   "execution_count": 6,
   "id": "65f713ea",
   "metadata": {},
   "outputs": [],
   "source": [
    "eq_1 = smp.Poly(w * x**4, x)\n",
    "eq_2 = smp.Poly((1 / w) * ((x - 1)*(x - x0)**2 * x - gamma * (x - 1)**3), x)"
   ]
  },
  {
   "cell_type": "code",
   "execution_count": 7,
   "id": "5979f646",
   "metadata": {},
   "outputs": [
    {
     "data": {
      "text/latex": [
       "$\\displaystyle \\operatorname{Poly}{\\left( w x^{4}, x, domain=\\mathbb{Z}\\left[w\\right] \\right)}$"
      ],
      "text/plain": [
       "Poly(w*x**4, x, domain='ZZ[w]')"
      ]
     },
     "execution_count": 7,
     "metadata": {},
     "output_type": "execute_result"
    }
   ],
   "source": [
    "eq_1"
   ]
  },
  {
   "cell_type": "code",
   "execution_count": 8,
   "id": "b0b4ad3c",
   "metadata": {},
   "outputs": [
    {
     "data": {
      "text/latex": [
       "$\\displaystyle \\operatorname{Poly}{\\left( \\frac{1}{w} x^{4} + \\frac{- \\gamma - 2 x_{0} - 1}{w} x^{3} + \\frac{3 \\gamma + x_{0}^{2} + 2 x_{0}}{w} x^{2} + \\frac{- 3 \\gamma - x_{0}^{2}}{w} x + \\frac{\\gamma}{w}, x, domain=\\mathbb{Z}\\left(x_{0}, w, \\gamma\\right) \\right)}$"
      ],
      "text/plain": [
       "Poly(1/w*x**4 + (-gamma - 2*x0 - 1)/w*x**3 + (3*gamma + x0**2 + 2*x0)/w*x**2 + (-3*gamma - x0**2)/w*x + gamma/w, x, domain='ZZ(x0,w,gamma)')"
      ]
     },
     "execution_count": 8,
     "metadata": {},
     "output_type": "execute_result"
    }
   ],
   "source": [
    "eq_2"
   ]
  },
  {
   "cell_type": "code",
   "execution_count": 9,
   "id": "ed91c8f0",
   "metadata": {},
   "outputs": [],
   "source": [
    "V1_m = (eq_1 + eq_2)/2\n",
    "V2 = (-eq_1 + eq_2)/2"
   ]
  },
  {
   "cell_type": "code",
   "execution_count": 10,
   "id": "a4e2f5ef",
   "metadata": {},
   "outputs": [
    {
     "data": {
      "text/latex": [
       "$\\displaystyle \\frac{\\gamma}{2 w} + \\frac{x^{4} \\left(w^{2} + 1\\right)}{2 w} + \\frac{x^{3} \\left(- \\gamma - 2 x_{0} - 1\\right)}{2 w} + \\frac{x^{2} \\left(3 \\gamma + x_{0}^{2} + 2 x_{0}\\right)}{2 w} + \\frac{x \\left(- 3 \\gamma - x_{0}^{2}\\right)}{2 w}$"
      ],
      "text/plain": [
       "gamma/(2*w) + x**4*(w**2 + 1)/(2*w) + x**3*(-gamma - 2*x0 - 1)/(2*w) + x**2*(3*gamma + x0**2 + 2*x0)/(2*w) + x*(-3*gamma - x0**2)/(2*w)"
      ]
     },
     "execution_count": 10,
     "metadata": {},
     "output_type": "execute_result"
    }
   ],
   "source": [
    "V1_m"
   ]
  },
  {
   "cell_type": "code",
   "execution_count": 11,
   "id": "397ad545",
   "metadata": {},
   "outputs": [
    {
     "data": {
      "text/latex": [
       "$\\displaystyle \\frac{\\gamma}{2 w} + \\frac{x^{4} \\left(1 - w^{2}\\right)}{2 w} + \\frac{x^{3} \\left(- \\gamma - 2 x_{0} - 1\\right)}{2 w} + \\frac{x^{2} \\left(3 \\gamma + x_{0}^{2} + 2 x_{0}\\right)}{2 w} + \\frac{x \\left(- 3 \\gamma - x_{0}^{2}\\right)}{2 w}$"
      ],
      "text/plain": [
       "gamma/(2*w) + x**4*(1 - w**2)/(2*w) + x**3*(-gamma - 2*x0 - 1)/(2*w) + x**2*(3*gamma + x0**2 + 2*x0)/(2*w) + x*(-3*gamma - x0**2)/(2*w)"
      ]
     },
     "execution_count": 11,
     "metadata": {},
     "output_type": "execute_result"
    }
   ],
   "source": [
    "V2"
   ]
  },
  {
   "cell_type": "code",
   "execution_count": 12,
   "id": "447902f0",
   "metadata": {},
   "outputs": [],
   "source": [
    "solution_w = smp.solve(V1_m.subs(x, x0), w)\n",
    "solution = solution_w[0]"
   ]
  },
  {
   "cell_type": "code",
   "execution_count": 13,
   "id": "45c01338",
   "metadata": {},
   "outputs": [
    {
     "name": "stdout",
     "output_type": "stream",
     "text": [
      "-sqrt(gamma*(x0 - 1)**3)/x0**2\n"
     ]
    }
   ],
   "source": [
    "print(solution)"
   ]
  },
  {
   "cell_type": "code",
   "execution_count": 14,
   "id": "0556d3b2",
   "metadata": {},
   "outputs": [],
   "source": [
    "V_q = (V1_m * V1_m)"
   ]
  },
  {
   "cell_type": "code",
   "execution_count": 15,
   "id": "07474154",
   "metadata": {},
   "outputs": [
    {
     "data": {
      "text/latex": [
       "$\\displaystyle \\left(\\frac{\\gamma}{2 w} + \\frac{x^{4} \\left(w^{2} + 1\\right)}{2 w} + \\frac{x^{3} \\left(- \\gamma - 2 x_{0} - 1\\right)}{2 w} + \\frac{x^{2} \\left(3 \\gamma + x_{0}^{2} + 2 x_{0}\\right)}{2 w} + \\frac{x \\left(- 3 \\gamma - x_{0}^{2}\\right)}{2 w}\\right)^{2}$"
      ],
      "text/plain": [
       "(gamma/(2*w) + x**4*(w**2 + 1)/(2*w) + x**3*(-gamma - 2*x0 - 1)/(2*w) + x**2*(3*gamma + x0**2 + 2*x0)/(2*w) + x*(-3*gamma - x0**2)/(2*w))**2"
      ]
     },
     "execution_count": 15,
     "metadata": {},
     "output_type": "execute_result"
    }
   ],
   "source": [
    "V_q"
   ]
  },
  {
   "cell_type": "code",
   "execution_count": 16,
   "id": "6260e0a3",
   "metadata": {},
   "outputs": [],
   "source": [
    "V_q = V_q.simplify().subs(w, solution).simplify()"
   ]
  },
  {
   "cell_type": "code",
   "execution_count": 17,
   "id": "8c3231ed",
   "metadata": {},
   "outputs": [
    {
     "data": {
      "text/latex": [
       "$\\displaystyle \\frac{\\left(x^{4} \\left(\\gamma \\left(x_{0} - 1\\right)^{3} + x_{0}^{4}\\right) + x_{0}^{4} \\left(\\gamma - x^{3} \\left(\\gamma + 2 x_{0} + 1\\right) + x^{2} \\left(3 \\gamma + x_{0}^{2} + 2 x_{0}\\right) - x \\left(3 \\gamma + x_{0}^{2}\\right)\\right)\\right)^{2}}{4 \\gamma x_{0}^{4} \\left(x_{0} - 1\\right)^{3}}$"
      ],
      "text/plain": [
       "(x**4*(gamma*(x0 - 1)**3 + x0**4) + x0**4*(gamma - x**3*(gamma + 2*x0 + 1) + x**2*(3*gamma + x0**2 + 2*x0) - x*(3*gamma + x0**2)))**2/(4*gamma*x0**4*(x0 - 1)**3)"
      ]
     },
     "execution_count": 17,
     "metadata": {},
     "output_type": "execute_result"
    }
   ],
   "source": [
    "V_q"
   ]
  },
  {
   "cell_type": "code",
   "execution_count": 18,
   "id": "fb202214-a135-46c7-b314-490e39d68f3e",
   "metadata": {},
   "outputs": [],
   "source": [
    "p1 = smp.Poly((x-x0)**2,x)\n",
    "\n",
    "quotient, remainder = smp.div(V_q, p1)"
   ]
  },
  {
   "cell_type": "code",
   "execution_count": 19,
   "id": "d3226529-9e8b-4b49-9ca3-3e966d877895",
   "metadata": {},
   "outputs": [],
   "source": [
    "V1 = quotient"
   ]
  },
  {
   "cell_type": "code",
   "execution_count": 20,
   "id": "fa5813c0",
   "metadata": {},
   "outputs": [
    {
     "data": {
      "text/latex": [
       "$\\displaystyle \\operatorname{Poly}{\\left( x_{0}^{10}x^{4}\\frac{1}{4 \\gamma x_{0}^{7} - 12 \\gamma x_{0}^{6} + 12 \\gamma x_{0}^{5} - 4 \\gamma x_{0}^{4}} - 2 x_{0}^{10}x^{3}\\frac{1}{4 \\gamma x_{0}^{7} - 12 \\gamma x_{0}^{6} + 12 \\gamma x_{0}^{5} - 4 \\gamma x_{0}^{4}} + x_{0}^{10}x^{2}\\frac{1}{4 \\gamma x_{0}^{7} - 12 \\gamma x_{0}^{6} + 12 \\gamma x_{0}^{5} - 4 \\gamma x_{0}^{4}} - 2 x_{0}^{9}x^{5}\\frac{1}{4 \\gamma x_{0}^{7} - 12 \\gamma x_{0}^{6} + 12 \\gamma x_{0}^{5} - 4 \\gamma x_{0}^{4}} + 4 x_{0}^{9}x^{4}\\frac{1}{4 \\gamma x_{0}^{7} - 12 \\gamma x_{0}^{6} + 12 \\gamma x_{0}^{5} - 4 \\gamma x_{0}^{4}} - 2 x_{0}^{9}x^{3}\\frac{1}{4 \\gamma x_{0}^{7} - 12 \\gamma x_{0}^{6} + 12 \\gamma x_{0}^{5} - 4 \\gamma x_{0}^{4}} + x_{0}^{8}x^{6}\\frac{1}{4 \\gamma x_{0}^{7} - 12 \\gamma x_{0}^{6} + 12 \\gamma x_{0}^{5} - 4 \\gamma x_{0}^{4}} - 2 x_{0}^{8}x^{5}\\frac{1}{4 \\gamma x_{0}^{7} - 12 \\gamma x_{0}^{6} + 12 \\gamma x_{0}^{5} - 4 \\gamma x_{0}^{4}}\\gamma - 2 x_{0}^{8}x^{5}\\frac{1}{4 \\gamma x_{0}^{7} - 12 \\gamma x_{0}^{6} + 12 \\gamma x_{0}^{5} - 4 \\gamma x_{0}^{4}} + 8 x_{0}^{8}x^{4}\\frac{1}{4 \\gamma x_{0}^{7} - 12 \\gamma x_{0}^{6} + 12 \\gamma x_{0}^{5} - 4 \\gamma x_{0}^{4}}\\gamma + x_{0}^{8}x^{4}\\frac{1}{4 \\gamma x_{0}^{7} - 12 \\gamma x_{0}^{6} + 12 \\gamma x_{0}^{5} - 4 \\gamma x_{0}^{4}} - 12 x_{0}^{8}x^{3}\\frac{1}{4 \\gamma x_{0}^{7} - 12 \\gamma x_{0}^{6} + 12 \\gamma x_{0}^{5} - 4 \\gamma x_{0}^{4}}\\gamma + 8 x_{0}^{8}x^{2}\\frac{1}{4 \\gamma x_{0}^{7} - 12 \\gamma x_{0}^{6} + 12 \\gamma x_{0}^{5} - 4 \\gamma x_{0}^{4}}\\gamma - 2 x_{0}^{8}x\\frac{1}{4 \\gamma x_{0}^{7} - 12 \\gamma x_{0}^{6} + 12 \\gamma x_{0}^{5} - 4 \\gamma x_{0}^{4}}\\gamma + 2 x_{0}^{7}x^{6}\\frac{1}{4 \\gamma x_{0}^{7} - 12 \\gamma x_{0}^{6} + 12 \\gamma x_{0}^{5} - 4 \\gamma x_{0}^{4}}\\gamma - 2 x_{0}^{7}x^{5}\\frac{1}{4 \\gamma x_{0}^{7} - 12 \\gamma x_{0}^{6} + 12 \\gamma x_{0}^{5} - 4 \\gamma x_{0}^{4}}\\gamma + x_{0}^{6}x^{6}\\frac{1}{4 \\gamma x_{0}^{7} - 12 \\gamma x_{0}^{6} + 12 \\gamma x_{0}^{5} - 4 \\gamma x_{0}^{4}}\\gamma^{2} - 6 x_{0}^{6}x^{6}\\frac{1}{4 \\gamma x_{0}^{7} - 12 \\gamma x_{0}^{6} + 12 \\gamma x_{0}^{5} - 4 \\gamma x_{0}^{4}}\\gamma - 6 x_{0}^{6}x^{5}\\frac{1}{4 \\gamma x_{0}^{7} - 12 \\gamma x_{0}^{6} + 12 \\gamma x_{0}^{5} - 4 \\gamma x_{0}^{4}}\\gamma^{2} + 6 x_{0}^{6}x^{5}\\frac{1}{4 \\gamma x_{0}^{7} - 12 \\gamma x_{0}^{6} + 12 \\gamma x_{0}^{5} - 4 \\gamma x_{0}^{4}}\\gamma + 15 x_{0}^{6}x^{4}\\frac{1}{4 \\gamma x_{0}^{7} - 12 \\gamma x_{0}^{6} + 12 \\gamma x_{0}^{5} - 4 \\gamma x_{0}^{4}}\\gamma^{2} - 20 x_{0}^{6}x^{3}\\frac{1}{4 \\gamma x_{0}^{7} - 12 \\gamma x_{0}^{6} + 12 \\gamma x_{0}^{5} - 4 \\gamma x_{0}^{4}}\\gamma^{2} + 15 x_{0}^{6}x^{2}\\frac{1}{4 \\gamma x_{0}^{7} - 12 \\gamma x_{0}^{6} + 12 \\gamma x_{0}^{5} - 4 \\gamma x_{0}^{4}}\\gamma^{2} - 6 x_{0}^{6}x\\frac{1}{4 \\gamma x_{0}^{7} - 12 \\gamma x_{0}^{6} + 12 \\gamma x_{0}^{5} - 4 \\gamma x_{0}^{4}}\\gamma^{2} + x_{0}^{6}\\frac{1}{4 \\gamma x_{0}^{7} - 12 \\gamma x_{0}^{6} + 12 \\gamma x_{0}^{5} - 4 \\gamma x_{0}^{4}}\\gamma^{2} - 6 x_{0}^{5}x^{6}\\frac{1}{4 \\gamma x_{0}^{7} - 12 \\gamma x_{0}^{6} + 12 \\gamma x_{0}^{5} - 4 \\gamma x_{0}^{4}}\\gamma^{2} + 6 x_{0}^{5}x^{6}\\frac{1}{4 \\gamma x_{0}^{7} - 12 \\gamma x_{0}^{6} + 12 \\gamma x_{0}^{5} - 4 \\gamma x_{0}^{4}}\\gamma + 24 x_{0}^{5}x^{5}\\frac{1}{4 \\gamma x_{0}^{7} - 12 \\gamma x_{0}^{6} + 12 \\gamma x_{0}^{5} - 4 \\gamma x_{0}^{4}}\\gamma^{2} - 6 x_{0}^{5}x^{5}\\frac{1}{4 \\gamma x_{0}^{7} - 12 \\gamma x_{0}^{6} + 12 \\gamma x_{0}^{5} - 4 \\gamma x_{0}^{4}}\\gamma - 38 x_{0}^{5}x^{4}\\frac{1}{4 \\gamma x_{0}^{7} - 12 \\gamma x_{0}^{6} + 12 \\gamma x_{0}^{5} - 4 \\gamma x_{0}^{4}}\\gamma^{2} + 30 x_{0}^{5}x^{3}\\frac{1}{4 \\gamma x_{0}^{7} - 12 \\gamma x_{0}^{6} + 12 \\gamma x_{0}^{5} - 4 \\gamma x_{0}^{4}}\\gamma^{2} - 12 x_{0}^{5}x^{2}\\frac{1}{4 \\gamma x_{0}^{7} - 12 \\gamma x_{0}^{6} + 12 \\gamma x_{0}^{5} - 4 \\gamma x_{0}^{4}}\\gamma^{2} + 2 x_{0}^{5}x\\frac{1}{4 \\gamma x_{0}^{7} - 12 \\gamma x_{0}^{6} + 12 \\gamma x_{0}^{5} - 4 \\gamma x_{0}^{4}}\\gamma^{2} + 15 x_{0}^{4}x^{6}\\frac{1}{4 \\gamma x_{0}^{7} - 12 \\gamma x_{0}^{6} + 12 \\gamma x_{0}^{5} - 4 \\gamma x_{0}^{4}}\\gamma^{2} - 2 x_{0}^{4}x^{6}\\frac{1}{4 \\gamma x_{0}^{7} - 12 \\gamma x_{0}^{6} + 12 \\gamma x_{0}^{5} - 4 \\gamma x_{0}^{4}}\\gamma - 38 x_{0}^{4}x^{5}\\frac{1}{4 \\gamma x_{0}^{7} - 12 \\gamma x_{0}^{6} + 12 \\gamma x_{0}^{5} - 4 \\gamma x_{0}^{4}}\\gamma^{2} + 2 x_{0}^{4}x^{5}\\frac{1}{4 \\gamma x_{0}^{7} - 12 \\gamma x_{0}^{6} + 12 \\gamma x_{0}^{5} - 4 \\gamma x_{0}^{4}}\\gamma + 39 x_{0}^{4}x^{4}\\frac{1}{4 \\gamma x_{0}^{7} - 12 \\gamma x_{0}^{6} + 12 \\gamma x_{0}^{5} - 4 \\gamma x_{0}^{4}}\\gamma^{2} - 18 x_{0}^{4}x^{3}\\frac{1}{4 \\gamma x_{0}^{7} - 12 \\gamma x_{0}^{6} + 12 \\gamma x_{0}^{5} - 4 \\gamma x_{0}^{4}}\\gamma^{2} + 3 x_{0}^{4}x^{2}\\frac{1}{4 \\gamma x_{0}^{7} - 12 \\gamma x_{0}^{6} + 12 \\gamma x_{0}^{5} - 4 \\gamma x_{0}^{4}}\\gamma^{2} - 20 x_{0}^{3}x^{6}\\frac{1}{4 \\gamma x_{0}^{7} - 12 \\gamma x_{0}^{6} + 12 \\gamma x_{0}^{5} - 4 \\gamma x_{0}^{4}}\\gamma^{2} + 30 x_{0}^{3}x^{5}\\frac{1}{4 \\gamma x_{0}^{7} - 12 \\gamma x_{0}^{6} + 12 \\gamma x_{0}^{5} - 4 \\gamma x_{0}^{4}}\\gamma^{2} - 18 x_{0}^{3}x^{4}\\frac{1}{4 \\gamma x_{0}^{7} - 12 \\gamma x_{0}^{6} + 12 \\gamma x_{0}^{5} - 4 \\gamma x_{0}^{4}}\\gamma^{2} + 4 x_{0}^{3}x^{3}\\frac{1}{4 \\gamma x_{0}^{7} - 12 \\gamma x_{0}^{6} + 12 \\gamma x_{0}^{5} - 4 \\gamma x_{0}^{4}}\\gamma^{2} + 15 x_{0}^{2}x^{6}\\frac{1}{4 \\gamma x_{0}^{7} - 12 \\gamma x_{0}^{6} + 12 \\gamma x_{0}^{5} - 4 \\gamma x_{0}^{4}}\\gamma^{2} - 12 x_{0}^{2}x^{5}\\frac{1}{4 \\gamma x_{0}^{7} - 12 \\gamma x_{0}^{6} + 12 \\gamma x_{0}^{5} - 4 \\gamma x_{0}^{4}}\\gamma^{2} + 3 x_{0}^{2}x^{4}\\frac{1}{4 \\gamma x_{0}^{7} - 12 \\gamma x_{0}^{6} + 12 \\gamma x_{0}^{5} - 4 \\gamma x_{0}^{4}}\\gamma^{2} - 6 x_{0}x^{6}\\frac{1}{4 \\gamma x_{0}^{7} - 12 \\gamma x_{0}^{6} + 12 \\gamma x_{0}^{5} - 4 \\gamma x_{0}^{4}}\\gamma^{2} + 2 x_{0}x^{5}\\frac{1}{4 \\gamma x_{0}^{7} - 12 \\gamma x_{0}^{6} + 12 \\gamma x_{0}^{5} - 4 \\gamma x_{0}^{4}}\\gamma^{2} + x^{6}\\frac{1}{4 \\gamma x_{0}^{7} - 12 \\gamma x_{0}^{6} + 12 \\gamma x_{0}^{5} - 4 \\gamma x_{0}^{4}}\\gamma^{2}, x_{0}, x, \\frac{1}{4 \\gamma x_{0}^{7} - 12 \\gamma x_{0}^{6} + 12 \\gamma x_{0}^{5} - 4 \\gamma x_{0}^{4}}, \\gamma, domain=\\mathbb{Z} \\right)}$"
      ],
      "text/plain": [
       "Poly(x0**10*x**4*(1/(4*gamma*x0**7 - 12*gamma*x0**6 + 12*gamma*x0**5 - 4*gamma*x0**4)) - 2*x0**10*x**3*(1/(4*gamma*x0**7 - 12*gamma*x0**6 + 12*gamma*x0**5 - 4*gamma*x0**4)) + x0**10*x**2*(1/(4*gamma*x0**7 - 12*gamma*x0**6 + 12*gamma*x0**5 - 4*gamma*x0**4)) - 2*x0**9*x**5*(1/(4*gamma*x0**7 - 12*gamma*x0**6 + 12*gamma*x0**5 - 4*gamma*x0**4)) + 4*x0**9*x**4*(1/(4*gamma*x0**7 - 12*gamma*x0**6 + 12*gamma*x0**5 - 4*gamma*x0**4)) - 2*x0**9*x**3*(1/(4*gamma*x0**7 - 12*gamma*x0**6 + 12*gamma*x0**5 - 4*gamma*x0**4)) + x0**8*x**6*(1/(4*gamma*x0**7 - 12*gamma*x0**6 + 12*gamma*x0**5 - 4*gamma*x0**4)) - 2*x0**8*x**5*(1/(4*gamma*x0**7 - 12*gamma*x0**6 + 12*gamma*x0**5 - 4*gamma*x0**4))*gamma - 2*x0**8*x**5*(1/(4*gamma*x0**7 - 12*gamma*x0**6 + 12*gamma*x0**5 - 4*gamma*x0**4)) + 8*x0**8*x**4*(1/(4*gamma*x0**7 - 12*gamma*x0**6 + 12*gamma*x0**5 - 4*gamma*x0**4))*gamma + x0**8*x**4*(1/(4*gamma*x0**7 - 12*gamma*x0**6 + 12*gamma*x0**5 - 4*gamma*x0**4)) - 12*x0**8*x**3*(1/(4*gamma*x0**7 - 12*gamma*x0**6 + 12*gamma*x0**5 - 4*gamma*x0**4))*gamma + 8*x0**8*x**2*(1/(4*gamma*x0**7 - 12*gamma*x0**6 + 12*gamma*x0**5 - 4*gamma*x0**4))*gamma - 2*x0**8*x*(1/(4*gamma*x0**7 - 12*gamma*x0**6 + 12*gamma*x0**5 - 4*gamma*x0**4))*gamma + 2*x0**7*x**6*(1/(4*gamma*x0**7 - 12*gamma*x0**6 + 12*gamma*x0**5 - 4*gamma*x0**4))*gamma - 2*x0**7*x**5*(1/(4*gamma*x0**7 - 12*gamma*x0**6 + 12*gamma*x0**5 - 4*gamma*x0**4))*gamma + x0**6*x**6*(1/(4*gamma*x0**7 - 12*gamma*x0**6 + 12*gamma*x0**5 - 4*gamma*x0**4))*gamma**2 - 6*x0**6*x**6*(1/(4*gamma*x0**7 - 12*gamma*x0**6 + 12*gamma*x0**5 - 4*gamma*x0**4))*gamma - 6*x0**6*x**5*(1/(4*gamma*x0**7 - 12*gamma*x0**6 + 12*gamma*x0**5 - 4*gamma*x0**4))*gamma**2 + 6*x0**6*x**5*(1/(4*gamma*x0**7 - 12*gamma*x0**6 + 12*gamma*x0**5 - 4*gamma*x0**4))*gamma + 15*x0**6*x**4*(1/(4*gamma*x0**7 - 12*gamma*x0**6 + 12*gamma*x0**5 - 4*gamma*x0**4))*gamma**2 - 20*x0**6*x**3*(1/(4*gamma*x0**7 - 12*gamma*x0**6 + 12*gamma*x0**5 - 4*gamma*x0**4))*gamma**2 + 15*x0**6*x**2*(1/(4*gamma*x0**7 - 12*gamma*x0**6 + 12*gamma*x0**5 - 4*gamma*x0**4))*gamma**2 - 6*x0**6*x*(1/(4*gamma*x0**7 - 12*gamma*x0**6 + 12*gamma*x0**5 - 4*gamma*x0**4))*gamma**2 + x0**6*(1/(4*gamma*x0**7 - 12*gamma*x0**6 + 12*gamma*x0**5 - 4*gamma*x0**4))*gamma**2 - 6*x0**5*x**6*(1/(4*gamma*x0**7 - 12*gamma*x0**6 + 12*gamma*x0**5 - 4*gamma*x0**4))*gamma**2 + 6*x0**5*x**6*(1/(4*gamma*x0**7 - 12*gamma*x0**6 + 12*gamma*x0**5 - 4*gamma*x0**4))*gamma + 24*x0**5*x**5*(1/(4*gamma*x0**7 - 12*gamma*x0**6 + 12*gamma*x0**5 - 4*gamma*x0**4))*gamma**2 - 6*x0**5*x**5*(1/(4*gamma*x0**7 - 12*gamma*x0**6 + 12*gamma*x0**5 - 4*gamma*x0**4))*gamma - 38*x0**5*x**4*(1/(4*gamma*x0**7 - 12*gamma*x0**6 + 12*gamma*x0**5 - 4*gamma*x0**4))*gamma**2 + 30*x0**5*x**3*(1/(4*gamma*x0**7 - 12*gamma*x0**6 + 12*gamma*x0**5 - 4*gamma*x0**4))*gamma**2 - 12*x0**5*x**2*(1/(4*gamma*x0**7 - 12*gamma*x0**6 + 12*gamma*x0**5 - 4*gamma*x0**4))*gamma**2 + 2*x0**5*x*(1/(4*gamma*x0**7 - 12*gamma*x0**6 + 12*gamma*x0**5 - 4*gamma*x0**4))*gamma**2 + 15*x0**4*x**6*(1/(4*gamma*x0**7 - 12*gamma*x0**6 + 12*gamma*x0**5 - 4*gamma*x0**4))*gamma**2 - 2*x0**4*x**6*(1/(4*gamma*x0**7 - 12*gamma*x0**6 + 12*gamma*x0**5 - 4*gamma*x0**4))*gamma - 38*x0**4*x**5*(1/(4*gamma*x0**7 - 12*gamma*x0**6 + 12*gamma*x0**5 - 4*gamma*x0**4))*gamma**2 + 2*x0**4*x**5*(1/(4*gamma*x0**7 - 12*gamma*x0**6 + 12*gamma*x0**5 - 4*gamma*x0**4))*gamma + 39*x0**4*x**4*(1/(4*gamma*x0**7 - 12*gamma*x0**6 + 12*gamma*x0**5 - 4*gamma*x0**4))*gamma**2 - 18*x0**4*x**3*(1/(4*gamma*x0**7 - 12*gamma*x0**6 + 12*gamma*x0**5 - 4*gamma*x0**4))*gamma**2 + 3*x0**4*x**2*(1/(4*gamma*x0**7 - 12*gamma*x0**6 + 12*gamma*x0**5 - 4*gamma*x0**4))*gamma**2 - 20*x0**3*x**6*(1/(4*gamma*x0**7 - 12*gamma*x0**6 + 12*gamma*x0**5 - 4*gamma*x0**4))*gamma**2 + 30*x0**3*x**5*(1/(4*gamma*x0**7 - 12*gamma*x0**6 + 12*gamma*x0**5 - 4*gamma*x0**4))*gamma**2 - 18*x0**3*x**4*(1/(4*gamma*x0**7 - 12*gamma*x0**6 + 12*gamma*x0**5 - 4*gamma*x0**4))*gamma**2 + 4*x0**3*x**3*(1/(4*gamma*x0**7 - 12*gamma*x0**6 + 12*gamma*x0**5 - 4*gamma*x0**4))*gamma**2 + 15*x0**2*x**6*(1/(4*gamma*x0**7 - 12*gamma*x0**6 + 12*gamma*x0**5 - 4*gamma*x0**4))*gamma**2 - 12*x0**2*x**5*(1/(4*gamma*x0**7 - 12*gamma*x0**6 + 12*gamma*x0**5 - 4*gamma*x0**4))*gamma**2 + 3*x0**2*x**4*(1/(4*gamma*x0**7 - 12*gamma*x0**6 + 12*gamma*x0**5 - 4*gamma*x0**4))*gamma**2 - 6*x0*x**6*(1/(4*gamma*x0**7 - 12*gamma*x0**6 + 12*gamma*x0**5 - 4*gamma*x0**4))*gamma**2 + 2*x0*x**5*(1/(4*gamma*x0**7 - 12*gamma*x0**6 + 12*gamma*x0**5 - 4*gamma*x0**4))*gamma**2 + x**6*(1/(4*gamma*x0**7 - 12*gamma*x0**6 + 12*gamma*x0**5 - 4*gamma*x0**4))*gamma**2, x0, x, 1/(4*gamma*x0**7 - 12*gamma*x0**6 + 12*gamma*x0**5 - 4*gamma*x0**4), gamma, domain='ZZ')"
      ]
     },
     "execution_count": 20,
     "metadata": {},
     "output_type": "execute_result"
    }
   ],
   "source": [
    "V1.simplify()"
   ]
  },
  {
   "cell_type": "code",
   "execution_count": 21,
   "id": "57820957-5d87-4e8b-a7e8-3928199b497f",
   "metadata": {},
   "outputs": [
    {
     "data": {
      "text/latex": [
       "$\\displaystyle \\operatorname{Poly}{\\left( 0, x_{0}, x, \\frac{1}{4 \\gamma x_{0}^{7} - 12 \\gamma x_{0}^{6} + 12 \\gamma x_{0}^{5} - 4 \\gamma x_{0}^{4}}, \\gamma, domain=\\mathbb{Z} \\right)}$"
      ],
      "text/plain": [
       "Poly(0, x0, x, 1/(4*gamma*x0**7 - 12*gamma*x0**6 + 12*gamma*x0**5 - 4*gamma*x0**4), gamma, domain='ZZ')"
      ]
     },
     "execution_count": 21,
     "metadata": {},
     "output_type": "execute_result"
    }
   ],
   "source": [
    "remainder"
   ]
  },
  {
   "cell_type": "code",
   "execution_count": 22,
   "id": "883502ec-c801-4e38-8a84-71536f23bd21",
   "metadata": {},
   "outputs": [],
   "source": [
    "f = smp.Poly(V1 - x**5 * (x - 1), x)"
   ]
  },
  {
   "cell_type": "code",
   "execution_count": 23,
   "id": "89de32e1-a381-4665-b9bb-3f7179c1d1d4",
   "metadata": {},
   "outputs": [
    {
     "data": {
      "text/latex": [
       "$\\displaystyle \\operatorname{Poly}{\\left( \\frac{\\gamma^{2} x_{0}^{6} - 6 \\gamma^{2} x_{0}^{5} + 15 \\gamma^{2} x_{0}^{4} - 20 \\gamma^{2} x_{0}^{3} + 15 \\gamma^{2} x_{0}^{2} - 6 \\gamma^{2} x_{0} + \\gamma^{2} - 2 \\gamma x_{0}^{7} + 6 \\gamma x_{0}^{6} - 6 \\gamma x_{0}^{5} + 2 \\gamma x_{0}^{4} + x_{0}^{8}}{4 \\gamma x_{0}^{7} - 12 \\gamma x_{0}^{6} + 12 \\gamma x_{0}^{5} - 4 \\gamma x_{0}^{4}} x^{6} + \\frac{- 3 \\gamma^{2} x_{0}^{5} + 12 \\gamma^{2} x_{0}^{4} - 19 \\gamma^{2} x_{0}^{3} + 15 \\gamma^{2} x_{0}^{2} - 6 \\gamma^{2} x_{0} + \\gamma^{2} - \\gamma x_{0}^{7} + \\gamma x_{0}^{6} - 3 \\gamma x_{0}^{5} + 3 \\gamma x_{0}^{4} - \\gamma x_{0}^{3} - x_{0}^{8} - x_{0}^{7}}{2 \\gamma x_{0}^{6} - 6 \\gamma x_{0}^{5} + 6 \\gamma x_{0}^{4} - 2 \\gamma x_{0}^{3}} x^{5} + \\frac{15 \\gamma^{2} x_{0}^{4} - 38 \\gamma^{2} x_{0}^{3} + 39 \\gamma^{2} x_{0}^{2} - 18 \\gamma^{2} x_{0} + 3 \\gamma^{2} + 8 \\gamma x_{0}^{6} + x_{0}^{8} + 4 x_{0}^{7} + x_{0}^{6}}{4 \\gamma x_{0}^{5} - 12 \\gamma x_{0}^{4} + 12 \\gamma x_{0}^{3} - 4 \\gamma x_{0}^{2}} x^{4} + \\frac{- 10 \\gamma^{2} x_{0}^{3} + 15 \\gamma^{2} x_{0}^{2} - 9 \\gamma^{2} x_{0} + 2 \\gamma^{2} - 6 \\gamma x_{0}^{5} - x_{0}^{7} - x_{0}^{6}}{2 \\gamma x_{0}^{4} - 6 \\gamma x_{0}^{3} + 6 \\gamma x_{0}^{2} - 2 \\gamma x_{0}} x^{3} + \\frac{15 \\gamma^{2} x_{0}^{2} - 12 \\gamma^{2} x_{0} + 3 \\gamma^{2} + 8 \\gamma x_{0}^{4} + x_{0}^{6}}{4 \\gamma x_{0}^{3} - 12 \\gamma x_{0}^{2} + 12 \\gamma x_{0} - 4 \\gamma} x^{2} + \\frac{- 3 \\gamma x_{0}^{2} + \\gamma x_{0} - x_{0}^{4}}{2 x_{0}^{3} - 6 x_{0}^{2} + 6 x_{0} - 2} x + \\frac{\\gamma x_{0}^{2}}{4 x_{0}^{3} - 12 x_{0}^{2} + 12 x_{0} - 4}, x, domain=\\mathbb{Z}\\left(x_{0}, \\gamma\\right) \\right)}$"
      ],
      "text/plain": [
       "Poly((gamma**2*x0**6 - 6*gamma**2*x0**5 + 15*gamma**2*x0**4 - 20*gamma**2*x0**3 + 15*gamma**2*x0**2 - 6*gamma**2*x0 + gamma**2 - 2*gamma*x0**7 + 6*gamma*x0**6 - 6*gamma*x0**5 + 2*gamma*x0**4 + x0**8)/(4*gamma*x0**7 - 12*gamma*x0**6 + 12*gamma*x0**5 - 4*gamma*x0**4)*x**6 + (-3*gamma**2*x0**5 + 12*gamma**2*x0**4 - 19*gamma**2*x0**3 + 15*gamma**2*x0**2 - 6*gamma**2*x0 + gamma**2 - gamma*x0**7 + gamma*x0**6 - 3*gamma*x0**5 + 3*gamma*x0**4 - gamma*x0**3 - x0**8 - x0**7)/(2*gamma*x0**6 - 6*gamma*x0**5 + 6*gamma*x0**4 - 2*gamma*x0**3)*x**5 + (15*gamma**2*x0**4 - 38*gamma**2*x0**3 + 39*gamma**2*x0**2 - 18*gamma**2*x0 + 3*gamma**2 + 8*gamma*x0**6 + x0**8 + 4*x0**7 + x0**6)/(4*gamma*x0**5 - 12*gamma*x0**4 + 12*gamma*x0**3 - 4*gamma*x0**2)*x**4 + (-10*gamma**2*x0**3 + 15*gamma**2*x0**2 - 9*gamma**2*x0 + 2*gamma**2 - 6*gamma*x0**5 - x0**7 - x0**6)/(2*gamma*x0**4 - 6*gamma*x0**3 + 6*gamma*x0**2 - 2*gamma*x0)*x**3 + (15*gamma**2*x0**2 - 12*gamma**2*x0 + 3*gamma**2 + 8*gamma*x0**4 + x0**6)/(4*gamma*x0**3 - 12*gamma*x0**2 + 12*gamma*x0 - 4*gamma)*x**2 + (-3*gamma*x0**2 + gamma*x0 - x0**4)/(2*x0**3 - 6*x0**2 + 6*x0 - 2)*x + gamma*x0**2/(4*x0**3 - 12*x0**2 + 12*x0 - 4), x, domain='ZZ(x0,gamma)')"
      ]
     },
     "execution_count": 23,
     "metadata": {},
     "output_type": "execute_result"
    }
   ],
   "source": [
    "f"
   ]
  },
  {
   "cell_type": "code",
   "execution_count": 24,
   "id": "b0b16811-5339-48e3-b663-0e4ecc70f2c5",
   "metadata": {},
   "outputs": [],
   "source": [
    "coeffs = f.all_coeffs()"
   ]
  },
  {
   "cell_type": "code",
   "execution_count": 25,
   "id": "4f084808",
   "metadata": {},
   "outputs": [
    {
     "name": "stdout",
     "output_type": "stream",
     "text": [
      "(-3*gamma**2*x0**5 + 12*gamma**2*x0**4 - 19*gamma**2*x0**3 + 15*gamma**2*x0**2 - 6*gamma**2*x0 + gamma**2 - gamma*x0**7 + gamma*x0**6 - 3*gamma*x0**5 + 3*gamma*x0**4 - gamma*x0**3 - x0**8 - x0**7)/(2*gamma*x0**6 - 6*gamma*x0**5 + 6*gamma*x0**4 - 2*gamma*x0**3)\n"
     ]
    }
   ],
   "source": [
    "print(coeffs[1])"
   ]
  },
  {
   "cell_type": "code",
   "execution_count": 26,
   "id": "c2bb8f17",
   "metadata": {},
   "outputs": [
    {
     "data": {
      "text/latex": [
       "$\\displaystyle \\frac{x_{0}^{4}}{\\left(x_{0} - 1\\right)^{3}}$"
      ],
      "text/plain": [
       "x0**4/(x0 - 1)**3"
      ]
     },
     "execution_count": 26,
     "metadata": {},
     "output_type": "execute_result"
    }
   ],
   "source": [
    "eq1 = smp.Eq(coeffs[0], 0)\n",
    "eq2 = smp.Eq(coeffs[1], -gamma)\n",
    "\n",
    "# Solve the system of equations for w\n",
    "solution_gamma = smp.solve([eq1, eq2], gamma)\n",
    "gamma_solution = solution_gamma[0][0]\n",
    "gamma_solution"
   ]
  },
  {
   "cell_type": "code",
   "execution_count": 27,
   "id": "9218b6b6",
   "metadata": {},
   "outputs": [],
   "source": [
    "f = f.subs(gamma, gamma_solution).simplify()"
   ]
  },
  {
   "cell_type": "code",
   "execution_count": 28,
   "id": "0ad83d28",
   "metadata": {},
   "outputs": [
    {
     "name": "stdout",
     "output_type": "stream",
     "text": [
      "(-4*x**5*x0**7 + 12*x**5*x0**6 - 12*x**5*x0**5 + 4*x**5*x0**4 + x**4*x0**8 + 6*x**4*x0**7 - 17*x**4*x0**6 + 20*x**4*x0**5 - 19*x**4*x0**4 + 16*x**4*x0**3 - 5*x**4*x0**2 - 2*x**4*x0 + x**4 - 2*x**3*x0**8 - 2*x**3*x0**7 - 2*x**3*x0**6 + 4*x**3*x0**5 + 4*x**3*x0**4 - 14*x**3*x0**3 + 10*x**3*x0**2 - 2*x**3*x0 + x**2*x0**8 + 2*x**2*x0**7 + 6*x**2*x0**6 - 8*x**2*x0**5 + 10*x**2*x0**4 - 6*x**2*x0**3 + x**2*x0**2 - 2*x*x0**7 - 4*x*x0**5 + 2*x*x0**4 + x0**6)/(4*(x0**6 - 6*x0**5 + 15*x0**4 - 20*x0**3 + 15*x0**2 - 6*x0 + 1))\n"
     ]
    }
   ],
   "source": [
    "print(f)"
   ]
  },
  {
   "cell_type": "code",
   "execution_count": 29,
   "id": "040a975d-0491-4d6b-b2b5-f58236a7257a",
   "metadata": {},
   "outputs": [],
   "source": [
    "def factor_coeffs(f, val):\n",
    "    return sum(smp.factor(coeff)*val**i for i, coeff in enumerate(reversed(smp.Poly(f, val).all_coeffs())))"
   ]
  },
  {
   "cell_type": "code",
   "execution_count": 30,
   "id": "1bdd75d8-1a3f-4bad-bae9-498eb71622c0",
   "metadata": {},
   "outputs": [
    {
     "data": {
      "text/latex": [
       "$\\displaystyle \\frac{- 4 x^{5} x_{0}^{7} + 12 x^{5} x_{0}^{6} - 12 x^{5} x_{0}^{5} + 4 x^{5} x_{0}^{4} + x^{4} x_{0}^{8} + 6 x^{4} x_{0}^{7} - 17 x^{4} x_{0}^{6} + 20 x^{4} x_{0}^{5} - 19 x^{4} x_{0}^{4} + 16 x^{4} x_{0}^{3} - 5 x^{4} x_{0}^{2} - 2 x^{4} x_{0} + x^{4} - 2 x^{3} x_{0}^{8} - 2 x^{3} x_{0}^{7} - 2 x^{3} x_{0}^{6} + 4 x^{3} x_{0}^{5} + 4 x^{3} x_{0}^{4} - 14 x^{3} x_{0}^{3} + 10 x^{3} x_{0}^{2} - 2 x^{3} x_{0} + x^{2} x_{0}^{8} + 2 x^{2} x_{0}^{7} + 6 x^{2} x_{0}^{6} - 8 x^{2} x_{0}^{5} + 10 x^{2} x_{0}^{4} - 6 x^{2} x_{0}^{3} + x^{2} x_{0}^{2} - 2 x x_{0}^{7} - 4 x x_{0}^{5} + 2 x x_{0}^{4} + x_{0}^{6}}{4 \\left(x_{0}^{6} - 6 x_{0}^{5} + 15 x_{0}^{4} - 20 x_{0}^{3} + 15 x_{0}^{2} - 6 x_{0} + 1\\right)}$"
      ],
      "text/plain": [
       "(-4*x**5*x0**7 + 12*x**5*x0**6 - 12*x**5*x0**5 + 4*x**5*x0**4 + x**4*x0**8 + 6*x**4*x0**7 - 17*x**4*x0**6 + 20*x**4*x0**5 - 19*x**4*x0**4 + 16*x**4*x0**3 - 5*x**4*x0**2 - 2*x**4*x0 + x**4 - 2*x**3*x0**8 - 2*x**3*x0**7 - 2*x**3*x0**6 + 4*x**3*x0**5 + 4*x**3*x0**4 - 14*x**3*x0**3 + 10*x**3*x0**2 - 2*x**3*x0 + x**2*x0**8 + 2*x**2*x0**7 + 6*x**2*x0**6 - 8*x**2*x0**5 + 10*x**2*x0**4 - 6*x**2*x0**3 + x**2*x0**2 - 2*x*x0**7 - 4*x*x0**5 + 2*x*x0**4 + x0**6)/(4*(x0**6 - 6*x0**5 + 15*x0**4 - 20*x0**3 + 15*x0**2 - 6*x0 + 1))"
      ]
     },
     "execution_count": 30,
     "metadata": {},
     "output_type": "execute_result"
    }
   ],
   "source": [
    "f_main = factor_coeffs(f, x)\n",
    "f"
   ]
  },
  {
   "cell_type": "code",
   "execution_count": 31,
   "id": "d6134b00",
   "metadata": {},
   "outputs": [
    {
     "data": {
      "text/latex": [
       "$\\displaystyle - \\frac{x^{5} x_{0}^{4}}{\\left(x_{0} - 1\\right)^{3}} + \\frac{x^{4} \\left(x_{0}^{8} + 6 x_{0}^{7} - 17 x_{0}^{6} + 20 x_{0}^{5} - 19 x_{0}^{4} + 16 x_{0}^{3} - 5 x_{0}^{2} - 2 x_{0} + 1\\right)}{4 \\left(x_{0} - 1\\right)^{6}} - \\frac{x^{3} x_{0} \\left(x_{0}^{2} + x_{0} - 1\\right) \\left(x_{0}^{5} + 2 x_{0}^{3} - 4 x_{0}^{2} + 4 x_{0} - 1\\right)}{2 \\left(x_{0} - 1\\right)^{6}} + \\frac{x^{2} x_{0}^{2} \\left(x_{0}^{6} + 2 x_{0}^{5} + 6 x_{0}^{4} - 8 x_{0}^{3} + 10 x_{0}^{2} - 6 x_{0} + 1\\right)}{4 \\left(x_{0} - 1\\right)^{6}} - \\frac{x x_{0}^{4} \\left(x_{0}^{3} + 2 x_{0} - 1\\right)}{2 \\left(x_{0} - 1\\right)^{6}} + \\frac{x_{0}^{6}}{4 \\left(x_{0} - 1\\right)^{6}}$"
      ],
      "text/plain": [
       "-x**5*x0**4/(x0 - 1)**3 + x**4*(x0**8 + 6*x0**7 - 17*x0**6 + 20*x0**5 - 19*x0**4 + 16*x0**3 - 5*x0**2 - 2*x0 + 1)/(4*(x0 - 1)**6) - x**3*x0*(x0**2 + x0 - 1)*(x0**5 + 2*x0**3 - 4*x0**2 + 4*x0 - 1)/(2*(x0 - 1)**6) + x**2*x0**2*(x0**6 + 2*x0**5 + 6*x0**4 - 8*x0**3 + 10*x0**2 - 6*x0 + 1)/(4*(x0 - 1)**6) - x*x0**4*(x0**3 + 2*x0 - 1)/(2*(x0 - 1)**6) + x0**6/(4*(x0 - 1)**6)"
      ]
     },
     "execution_count": 31,
     "metadata": {},
     "output_type": "execute_result"
    }
   ],
   "source": [
    "f_main.as_expr()"
   ]
  },
  {
   "cell_type": "code",
   "execution_count": 32,
   "id": "0fdadeb7",
   "metadata": {},
   "outputs": [],
   "source": [
    "calc = MagmaCalculator()"
   ]
  },
  {
   "cell_type": "code",
   "execution_count": 33,
   "id": "a5c2cf78",
   "metadata": {},
   "outputs": [],
   "source": [
    "def check_order(equation):\n",
    "    \"\"\"Function that helps to check an order of possible torison points of given function\"\"\"\n",
    "    code = f\"\"\"\n",
    "    P<x> := PolynomialRing(Rationals());\n",
    "    C1 := HyperellipticCurve({equation});\n",
    "    J1 := Jacobian(C1);\n",
    "    TorsionSubgroup(J1);\n",
    "    ClebschInvariants(C1);\n",
    "    IgusaClebschInvariants(C1);\n",
    "    IgusaInvariants(C1);\"\"\"\n",
    "    calc.submit_code(code)"
   ]
  },
  {
   "cell_type": "code",
   "execution_count": 34,
   "id": "6db2223f",
   "metadata": {},
   "outputs": [],
   "source": [
    "def get_magma_expr(f):\n",
    "    content, primitive_poly = f.as_content_primitive() \n",
    "    integer_poly = primitive_poly * content.denominator  \n",
    "    integer_poly = smp.Poly(integer_poly, x)\n",
    "    magma_expr = str(integer_poly.as_expr()).replace('**', '^')\n",
    "    return magma_expr"
   ]
  },
  {
   "cell_type": "code",
   "execution_count": 35,
   "id": "4e806191",
   "metadata": {},
   "outputs": [],
   "source": [
    "def curve_search(rang):\n",
    "    for value in range(rang[0],rang[1]):\n",
    "        f = f_main.subs(x0,value)\n",
    "        magma_expr = get_magma_expr(f)\n",
    "        check_order(magma_expr)"
   ]
  },
  {
   "cell_type": "code",
   "execution_count": 37,
   "id": "77fab6c1",
   "metadata": {},
   "outputs": [],
   "source": [
    "curve_search([10,20])"
   ]
  },
  {
   "cell_type": "code",
   "execution_count": 239,
   "id": "f34919da-2bc9-498a-baec-cc8c3a8399c1",
   "metadata": {},
   "outputs": [
    {
     "name": "stdout",
     "output_type": "stream",
     "text": [
      "- \\frac{x^{5} x_{0}^{4}}{\\left(x_{0} - 1\\right)^{3}} + \\frac{x^{4} \\left(x_{0}^{8} + 6 x_{0}^{7} - 17 x_{0}^{6} + 20 x_{0}^{5} - 19 x_{0}^{4} + 16 x_{0}^{3} - 5 x_{0}^{2} - 2 x_{0} + 1\\right)}{4 \\left(x_{0} - 1\\right)^{6}} - \\frac{x^{3} x_{0} \\left(x_{0}^{2} + x_{0} - 1\\right) \\left(x_{0}^{5} + 2 x_{0}^{3} - 4 x_{0}^{2} + 4 x_{0} - 1\\right)}{2 \\left(x_{0} - 1\\right)^{6}} + \\frac{x^{2} x_{0}^{2} \\left(x_{0}^{6} + 2 x_{0}^{5} + 6 x_{0}^{4} - 8 x_{0}^{3} + 10 x_{0}^{2} - 6 x_{0} + 1\\right)}{4 \\left(x_{0} - 1\\right)^{6}} - \\frac{x x_{0}^{4} \\left(x_{0}^{3} + 2 x_{0} - 1\\right)}{2 \\left(x_{0} - 1\\right)^{6}} + \\frac{x_{0}^{6}}{4 \\left(x_{0} - 1\\right)^{6}}\n"
     ]
    }
   ],
   "source": [
    "print(smp.latex(f.as_expr()))"
   ]
  },
  {
   "cell_type": "code",
   "execution_count": null,
   "id": "5470f313-fbf6-4a24-9937-fdc549504d8a",
   "metadata": {},
   "outputs": [],
   "source": []
  },
  {
   "cell_type": "code",
   "execution_count": null,
   "id": "4e586458-3347-45bb-9d6d-02bed788a644",
   "metadata": {},
   "outputs": [],
   "source": []
  }
 ],
 "metadata": {
  "kernelspec": {
   "display_name": ".venv",
   "language": "python",
   "name": "python3"
  },
  "language_info": {
   "codemirror_mode": {
    "name": "ipython",
    "version": 3
   },
   "file_extension": ".py",
   "mimetype": "text/x-python",
   "name": "python",
   "nbconvert_exporter": "python",
   "pygments_lexer": "ipython3",
   "version": "3.12.4"
  }
 },
 "nbformat": 4,
 "nbformat_minor": 5
}
