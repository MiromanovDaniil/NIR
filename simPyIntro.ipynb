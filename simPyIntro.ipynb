{
 "cells": [
  {
   "cell_type": "code",
   "execution_count": 1,
   "id": "f0986d40-42f5-48c1-bc63-ff3e9887c8e3",
   "metadata": {},
   "outputs": [],
   "source": [
    "import sympy as smp"
   ]
  },
  {
   "cell_type": "code",
   "execution_count": 2,
   "id": "3479e8bf-85c9-4829-8798-6870ee7f7e11",
   "metadata": {},
   "outputs": [],
   "source": [
    "\n",
    "x, z0, d = smp.symbols('x z0 d')"
   ]
  },
  {
   "cell_type": "code",
   "execution_count": 3,
   "id": "fb202214-a135-46c7-b314-490e39d68f3e",
   "metadata": {},
   "outputs": [],
   "source": [
    "x0 = (1 + d)**2 / d\n",
    "x1 = x0 / (2 + d)\n",
    "x2 = (x0 * d) / (1 + 2*d)\n",
    "gamma = -z0**2 *d\n",
    "\n",
    "C = -z0**2 * (1 + 2*d) * (2 + d)\n",
    "C1 = (z0 * (2 + d) * ((1 + d)**2 - d)) / (1 + d)**2\n",
    "\n",
    "V1 = smp.Poly(smp.Rational(1,2) * (C1 * x**2 * (x - x1) + (C / C1) * (x - 1)**2 * (x - x2)),x)\n",
    "V2 = smp.Poly(smp.Rational(1,2) * ((C / C1) * (x - 1)**2 * (x - x2) - C1 * x**2 * (x - x1)),x)\n",
    "p1 = smp.Poly(x-x0,x)\n",
    "p2 = smp.Poly(x**2 * (x-1)**3,x)\n",
    "\n",
    "quotient, remainder = smp.div(V1, p1)"
   ]
  },
  {
   "cell_type": "code",
   "execution_count": 4,
   "id": "d3226529-9e8b-4b49-9ca3-3e966d877895",
   "metadata": {},
   "outputs": [],
   "source": [
    "V1 = quotient"
   ]
  },
  {
   "cell_type": "code",
   "execution_count": 5,
   "id": "57820957-5d87-4e8b-a7e8-3928199b497f",
   "metadata": {},
   "outputs": [
    {
     "data": {
      "text/latex": [
       "$\\displaystyle \\operatorname{Poly}{\\left( 0, x, domain=\\mathbb{Z}\\left(z_{0}, d\\right) \\right)}$"
      ],
      "text/plain": [
       "Poly(0, x, domain='ZZ(z0,d)')"
      ]
     },
     "execution_count": 5,
     "metadata": {},
     "output_type": "execute_result"
    }
   ],
   "source": [
    "remainder"
   ]
  },
  {
   "cell_type": "code",
   "execution_count": 6,
   "id": "7123694e-4463-4711-a759-c28be35bf6ea",
   "metadata": {},
   "outputs": [
    {
     "data": {
      "text/latex": [
       "$\\displaystyle \\operatorname{Poly}{\\left( \\frac{- d^{5} z_{0} - 5 d^{4} z_{0} - 9 d^{3} z_{0} - 6 d^{2} z_{0} - d z_{0} + z_{0}}{2 d^{4} + 6 d^{3} + 8 d^{2} + 6 d + 2} x^{2} + \\frac{2 d^{3} z_{0} + 5 d^{2} z_{0} + 3 d z_{0}}{2 d^{2} + 2 d + 2} x + \\frac{- d^{3} z_{0} - 2 d^{2} z_{0} - d z_{0}}{2 d^{2} + 2 d + 2}, x, domain=\\mathbb{Z}\\left(z_{0}, d\\right) \\right)}$"
      ],
      "text/plain": [
       "Poly((-d**5*z0 - 5*d**4*z0 - 9*d**3*z0 - 6*d**2*z0 - d*z0 + z0)/(2*d**4 + 6*d* ↪\n",
       "\n",
       "↪ *3 + 8*d**2 + 6*d + 2)*x**2 + (2*d**3*z0 + 5*d**2*z0 + 3*d*z0)/(2*d**2 + 2*d ↪\n",
       "\n",
       "↪  + 2)*x + (-d**3*z0 - 2*d**2*z0 - d*z0)/(2*d**2 + 2*d + 2), x, domain='ZZ(z0 ↪\n",
       "\n",
       "↪ ,d)')"
      ]
     },
     "execution_count": 6,
     "metadata": {},
     "output_type": "execute_result"
    }
   ],
   "source": [
    "quotient "
   ]
  },
  {
   "cell_type": "code",
   "execution_count": 7,
   "id": "6f225454-a615-471f-992b-29c95c449b42",
   "metadata": {},
   "outputs": [
    {
     "data": {
      "text/latex": [
       "$\\displaystyle - \\frac{z_{0} \\left(d^{5} + 5 d^{4} + 9 d^{3} + 6 d^{2} + d - 1\\right)}{2 \\left(d + 1\\right)^{2} \\left(d^{2} + d + 1\\right)}$"
      ],
      "text/plain": [
       "    ⎛ 5      4      3      2        ⎞ \n",
       "-z₀⋅⎝d  + 5⋅d  + 9⋅d  + 6⋅d  + d - 1⎠ \n",
       "──────────────────────────────────────\n",
       "                2 ⎛ 2        ⎞        \n",
       "       2⋅(d + 1) ⋅⎝d  + d + 1⎠        "
      ]
     },
     "execution_count": 7,
     "metadata": {},
     "output_type": "execute_result"
    }
   ],
   "source": [
    "smp.factor(quotient.all_coeffs()[0])"
   ]
  },
  {
   "cell_type": "code",
   "execution_count": 8,
   "id": "ee59a8b1-ba51-4c67-9dfd-8b38a1783456",
   "metadata": {},
   "outputs": [
    {
     "name": "stdout",
     "output_type": "stream",
     "text": [
      "\\frac{x^{2} \\left(- d^{5} z_{0} - 5 d^{4} z_{0} - 9 d^{3} z_{0} - 6 d^{2} z_{0} - d z_{0} + z_{0}\\right)}{2 d^{4} + 6 d^{3} + 8 d^{2} + 6 d + 2} + \\frac{x \\left(2 d^{3} z_{0} + 5 d^{2} z_{0} + 3 d z_{0}\\right)}{2 d^{2} + 2 d + 2} + \\frac{- d^{3} z_{0} - 2 d^{2} z_{0} - d z_{0}}{2 d^{2} + 2 d + 2}\n"
     ]
    }
   ],
   "source": [
    "print(smp.latex(quotient.as_expr()))"
   ]
  },
  {
   "cell_type": "code",
   "execution_count": 9,
   "id": "9756a6bd-c445-4a4c-94c6-ee8472646939",
   "metadata": {},
   "outputs": [
    {
     "data": {
      "text/latex": [
       "$\\displaystyle \\operatorname{Poly}{\\left( \\frac{- 3 d^{5} z_{0} - 13 d^{4} z_{0} - 23 d^{3} z_{0} - 22 d^{2} z_{0} - 11 d z_{0} - 3 z_{0}}{2 d^{4} + 6 d^{3} + 8 d^{2} + 6 d + 2} x^{3} + \\frac{d^{5} z_{0} + 9 d^{4} z_{0} + 18 d^{3} z_{0} + 15 d^{2} z_{0} + 5 d z_{0} + z_{0}}{2 d^{3} + 2 d^{2} + 2 d} x^{2} + \\frac{- 2 d^{4} z_{0} - 10 d^{3} z_{0} - 17 d^{2} z_{0} - 12 d z_{0} - 3 z_{0}}{2 d^{2} + 2 d + 2} x + \\frac{d^{4} z_{0} + 4 d^{3} z_{0} + 6 d^{2} z_{0} + 4 d z_{0} + z_{0}}{2 d^{2} + 2 d + 2}, x, domain=\\mathbb{Z}\\left(z_{0}, d\\right) \\right)}$"
      ],
      "text/plain": [
       "Poly((-3*d**5*z0 - 13*d**4*z0 - 23*d**3*z0 - 22*d**2*z0 - 11*d*z0 - 3*z0)/(2*d ↪\n",
       "\n",
       "↪ **4 + 6*d**3 + 8*d**2 + 6*d + 2)*x**3 + (d**5*z0 + 9*d**4*z0 + 18*d**3*z0 +  ↪\n",
       "\n",
       "↪ 15*d**2*z0 + 5*d*z0 + z0)/(2*d**3 + 2*d**2 + 2*d)*x**2 + (-2*d**4*z0 - 10*d* ↪\n",
       "\n",
       "↪ *3*z0 - 17*d**2*z0 - 12*d*z0 - 3*z0)/(2*d**2 + 2*d + 2)*x + (d**4*z0 + 4*d** ↪\n",
       "\n",
       "↪ 3*z0 + 6*d**2*z0 + 4*d*z0 + z0)/(2*d**2 + 2*d + 2), x, domain='ZZ(z0,d)')"
      ]
     },
     "execution_count": 9,
     "metadata": {},
     "output_type": "execute_result"
    }
   ],
   "source": [
    "V2"
   ]
  },
  {
   "cell_type": "code",
   "execution_count": 10,
   "id": "cf00ea7b-1c0d-4a3b-b670-f265d556e5e6",
   "metadata": {},
   "outputs": [
    {
     "name": "stdout",
     "output_type": "stream",
     "text": [
      "\\frac{x^{3} \\left(- 3 d^{5} z_{0} - 13 d^{4} z_{0} - 23 d^{3} z_{0} - 22 d^{2} z_{0} - 11 d z_{0} - 3 z_{0}\\right)}{2 d^{4} + 6 d^{3} + 8 d^{2} + 6 d + 2} + \\frac{x^{2} \\left(d^{5} z_{0} + 9 d^{4} z_{0} + 18 d^{3} z_{0} + 15 d^{2} z_{0} + 5 d z_{0} + z_{0}\\right)}{2 d^{3} + 2 d^{2} + 2 d} + \\frac{x \\left(- 2 d^{4} z_{0} - 10 d^{3} z_{0} - 17 d^{2} z_{0} - 12 d z_{0} - 3 z_{0}\\right)}{2 d^{2} + 2 d + 2} + \\frac{d^{4} z_{0} + 4 d^{3} z_{0} + 6 d^{2} z_{0} + 4 d z_{0} + z_{0}}{2 d^{2} + 2 d + 2}\n"
     ]
    }
   ],
   "source": [
    "print(smp.latex(V2.as_expr()))"
   ]
  },
  {
   "cell_type": "code",
   "execution_count": 11,
   "id": "883502ec-c801-4e38-8a84-71536f23bd21",
   "metadata": {},
   "outputs": [],
   "source": [
    "f = V1 * V1 - gamma * p2"
   ]
  },
  {
   "cell_type": "code",
   "execution_count": 12,
   "id": "89de32e1-a381-4665-b9bb-3f7179c1d1d4",
   "metadata": {},
   "outputs": [
    {
     "data": {
      "text/latex": [
       "$\\displaystyle \\operatorname{Poly}{\\left( d z_{0}^{2} x^{5} + \\frac{d^{10} z_{0}^{2} - 2 d^{9} z_{0}^{2} - 29 d^{8} z_{0}^{2} - 102 d^{7} z_{0}^{2} - 217 d^{6} z_{0}^{2} - 316 d^{5} z_{0}^{2} - 316 d^{4} z_{0}^{2} - 210 d^{3} z_{0}^{2} - 83 d^{2} z_{0}^{2} - 14 d z_{0}^{2} + z_{0}^{2}}{4 d^{8} + 24 d^{7} + 68 d^{6} + 120 d^{5} + 144 d^{4} + 120 d^{3} + 68 d^{2} + 24 d + 4} x^{4} + \\frac{- 2 d^{7} z_{0}^{2} - 7 d^{6} z_{0}^{2} - 15 d^{5} z_{0}^{2} - 9 d^{4} z_{0}^{2} + 10 d^{3} z_{0}^{2} + 17 d^{2} z_{0}^{2} + 9 d z_{0}^{2}}{2 d^{5} + 6 d^{4} + 10 d^{3} + 10 d^{2} + 6 d + 2} x^{3} + \\frac{6 d^{6} z_{0}^{2} + 26 d^{5} z_{0}^{2} + 47 d^{4} z_{0}^{2} + 30 d^{3} z_{0}^{2} + 3 d^{2} z_{0}^{2} - 6 d z_{0}^{2}}{4 d^{4} + 8 d^{3} + 12 d^{2} + 8 d + 4} x^{2} + \\frac{- 2 d^{6} z_{0}^{2} - 9 d^{5} z_{0}^{2} - 15 d^{4} z_{0}^{2} - 11 d^{3} z_{0}^{2} - 3 d^{2} z_{0}^{2}}{2 d^{4} + 4 d^{3} + 6 d^{2} + 4 d + 2} x + \\frac{d^{6} z_{0}^{2} + 4 d^{5} z_{0}^{2} + 6 d^{4} z_{0}^{2} + 4 d^{3} z_{0}^{2} + d^{2} z_{0}^{2}}{4 d^{4} + 8 d^{3} + 12 d^{2} + 8 d + 4}, x, domain=\\mathbb{Z}\\left(z_{0}, d\\right) \\right)}$"
      ],
      "text/plain": [
       "Poly(d*z0**2*x**5 + (d**10*z0**2 - 2*d**9*z0**2 - 29*d**8*z0**2 - 102*d**7*z0* ↪\n",
       "\n",
       "↪ *2 - 217*d**6*z0**2 - 316*d**5*z0**2 - 316*d**4*z0**2 - 210*d**3*z0**2 - 83* ↪\n",
       "\n",
       "↪ d**2*z0**2 - 14*d*z0**2 + z0**2)/(4*d**8 + 24*d**7 + 68*d**6 + 120*d**5 + 14 ↪\n",
       "\n",
       "↪ 4*d**4 + 120*d**3 + 68*d**2 + 24*d + 4)*x**4 + (-2*d**7*z0**2 - 7*d**6*z0**2 ↪\n",
       "\n",
       "↪  - 15*d**5*z0**2 - 9*d**4*z0**2 + 10*d**3*z0**2 + 17*d**2*z0**2 + 9*d*z0**2) ↪\n",
       "\n",
       "↪ /(2*d**5 + 6*d**4 + 10*d**3 + 10*d**2 + 6*d + 2)*x**3 + (6*d**6*z0**2 + 26*d ↪\n",
       "\n",
       "↪ **5*z0**2 + 47*d**4*z0**2 + 30*d**3*z0**2 + 3*d**2*z0**2 - 6*d*z0**2)/(4*d** ↪\n",
       "\n",
       "↪ 4 + 8*d**3 + 12*d**2 + 8*d + 4)*x**2 + (-2*d**6*z0**2 - 9*d**5*z0**2 - 15*d* ↪\n",
       "\n",
       "↪ *4*z0**2 - 11*d**3*z0**2 - 3*d**2*z0**2)/(2*d**4 + 4*d**3 + 6*d**2 + 4*d + 2 ↪\n",
       "\n",
       "↪ )*x + (d**6*z0**2 + 4*d**5*z0**2 + 6*d**4*z0**2 + 4*d**3*z0**2 + d**2*z0**2) ↪\n",
       "\n",
       "↪ /(4*d**4 + 8*d**3 + 12*d**2 + 8*d + 4), x, domain='ZZ(z0,d)')"
      ]
     },
     "execution_count": 12,
     "metadata": {},
     "output_type": "execute_result"
    }
   ],
   "source": [
    "f"
   ]
  },
  {
   "cell_type": "code",
   "execution_count": 13,
   "id": "b0b16811-5339-48e3-b663-0e4ecc70f2c5",
   "metadata": {},
   "outputs": [
    {
     "data": {
      "text/latex": [
       "$\\displaystyle \\left[ d z_{0}^{2}, \\  \\frac{d^{10} z_{0}^{2} - 2 d^{9} z_{0}^{2} - 29 d^{8} z_{0}^{2} - 102 d^{7} z_{0}^{2} - 217 d^{6} z_{0}^{2} - 316 d^{5} z_{0}^{2} - 316 d^{4} z_{0}^{2} - 210 d^{3} z_{0}^{2} - 83 d^{2} z_{0}^{2} - 14 d z_{0}^{2} + z_{0}^{2}}{4 d^{8} + 24 d^{7} + 68 d^{6} + 120 d^{5} + 144 d^{4} + 120 d^{3} + 68 d^{2} + 24 d + 4}, \\  \\frac{- 2 d^{7} z_{0}^{2} - 7 d^{6} z_{0}^{2} - 15 d^{5} z_{0}^{2} - 9 d^{4} z_{0}^{2} + 10 d^{3} z_{0}^{2} + 17 d^{2} z_{0}^{2} + 9 d z_{0}^{2}}{2 d^{5} + 6 d^{4} + 10 d^{3} + 10 d^{2} + 6 d + 2}, \\  \\frac{6 d^{6} z_{0}^{2} + 26 d^{5} z_{0}^{2} + 47 d^{4} z_{0}^{2} + 30 d^{3} z_{0}^{2} + 3 d^{2} z_{0}^{2} - 6 d z_{0}^{2}}{4 d^{4} + 8 d^{3} + 12 d^{2} + 8 d + 4}, \\  \\frac{- 2 d^{6} z_{0}^{2} - 9 d^{5} z_{0}^{2} - 15 d^{4} z_{0}^{2} - 11 d^{3} z_{0}^{2} - 3 d^{2} z_{0}^{2}}{2 d^{4} + 4 d^{3} + 6 d^{2} + 4 d + 2}, \\  \\frac{d^{6} z_{0}^{2} + 4 d^{5} z_{0}^{2} + 6 d^{4} z_{0}^{2} + 4 d^{3} z_{0}^{2} + d^{2} z_{0}^{2}}{4 d^{4} + 8 d^{3} + 12 d^{2} + 8 d + 4}\\right]$"
      ],
      "text/plain": [
       "⎡        10   2      9   2       8   2        7   2        6   2        5   2  ↪\n",
       "⎢    2  d  ⋅z₀  - 2⋅d ⋅z₀  - 29⋅d ⋅z₀  - 102⋅d ⋅z₀  - 217⋅d ⋅z₀  - 316⋅d ⋅z₀   ↪\n",
       "⎢d⋅z₀ , ────────────────────────────────────────────────────────────────────── ↪\n",
       "⎢                                       8       7       6        5        4    ↪\n",
       "⎣                                    4⋅d  + 24⋅d  + 68⋅d  + 120⋅d  + 144⋅d  +  ↪\n",
       "\n",
       "↪        4   2        3   2       2   2          2     2       7   2      6    ↪\n",
       "↪ - 316⋅d ⋅z₀  - 210⋅d ⋅z₀  - 83⋅d ⋅z₀  - 14⋅d⋅z₀  + z₀   - 2⋅d ⋅z₀  - 7⋅d ⋅z₀ ↪\n",
       "↪ ──────────────────────────────────────────────────────, ──────────────────── ↪\n",
       "↪      3       2                                                               ↪\n",
       "↪ 120⋅d  + 68⋅d  + 24⋅d + 4                                                    ↪\n",
       "\n",
       "↪ 2       5   2      4   2       3   2       2   2         2     6   2       5 ↪\n",
       "↪   - 15⋅d ⋅z₀  - 9⋅d ⋅z₀  + 10⋅d ⋅z₀  + 17⋅d ⋅z₀  + 9⋅d⋅z₀   6⋅d ⋅z₀  + 26⋅d  ↪\n",
       "↪ ──────────────────────────────────────────────────────────, ──────────────── ↪\n",
       "↪    5      4       3       2                                                  ↪\n",
       "↪ 2⋅d  + 6⋅d  + 10⋅d  + 10⋅d  + 6⋅d + 2                                        ↪\n",
       "\n",
       "↪    2       4   2       3   2      2   2         2       6   2      5   2     ↪\n",
       "↪ ⋅z₀  + 47⋅d ⋅z₀  + 30⋅d ⋅z₀  + 3⋅d ⋅z₀  - 6⋅d⋅z₀   - 2⋅d ⋅z₀  - 9⋅d ⋅z₀  - 1 ↪\n",
       "↪ ─────────────────────────────────────────────────, ───────────────────────── ↪\n",
       "↪      4      3       2                                               4      3 ↪\n",
       "↪   4⋅d  + 8⋅d  + 12⋅d  + 8⋅d + 4                                  2⋅d  + 4⋅d  ↪\n",
       "\n",
       "↪    4   2       3   2      2   2   6   2      5   2      4   2      3   2     ↪\n",
       "↪ 5⋅d ⋅z₀  - 11⋅d ⋅z₀  - 3⋅d ⋅z₀   d ⋅z₀  + 4⋅d ⋅z₀  + 6⋅d ⋅z₀  + 4⋅d ⋅z₀  + d ↪\n",
       "↪ ───────────────────────────────, ─────────────────────────────────────────── ↪\n",
       "↪       2                                      4      3       2                ↪\n",
       "↪  + 6⋅d  + 4⋅d + 2                         4⋅d  + 8⋅d  + 12⋅d  + 8⋅d + 4      ↪\n",
       "\n",
       "↪ 2   2⎤\n",
       "↪  ⋅z₀ ⎥\n",
       "↪ ─────⎥\n",
       "↪      ⎥\n",
       "↪      ⎦"
      ]
     },
     "execution_count": 13,
     "metadata": {},
     "output_type": "execute_result"
    }
   ],
   "source": [
    "f.all_coeffs()"
   ]
  },
  {
   "cell_type": "code",
   "execution_count": 14,
   "id": "040a975d-0491-4d6b-b2b5-f58236a7257a",
   "metadata": {},
   "outputs": [],
   "source": [
    "def factor_coeffs(f, val):\n",
    "    return sum(smp.factor(coeff)*val**i for i, coeff in enumerate(reversed(smp.Poly(f, val).all_coeffs())))"
   ]
  },
  {
   "cell_type": "code",
   "execution_count": 15,
   "id": "1bdd75d8-1a3f-4bad-bae9-498eb71622c0",
   "metadata": {},
   "outputs": [
    {
     "data": {
      "text/latex": [
       "$\\displaystyle - \\frac{d^{2} x z_{0}^{2} \\left(d + 1\\right)^{3} \\left(2 d + 3\\right)}{2 \\left(d^{2} + d + 1\\right)^{2}} + \\frac{d^{2} z_{0}^{2} \\left(d + 1\\right)^{4}}{4 \\left(d^{2} + d + 1\\right)^{2}} + d x^{5} z_{0}^{2} - \\frac{d x^{3} z_{0}^{2} \\left(2 d^{6} + 7 d^{5} + 15 d^{4} + 9 d^{3} - 10 d^{2} - 17 d - 9\\right)}{2 \\left(d + 1\\right) \\left(d^{2} + d + 1\\right)^{2}} + \\frac{d x^{2} z_{0}^{2} \\left(6 d^{5} + 26 d^{4} + 47 d^{3} + 30 d^{2} + 3 d - 6\\right)}{4 \\left(d^{2} + d + 1\\right)^{2}} + \\frac{x^{4} z_{0}^{2} \\left(d^{10} - 2 d^{9} - 29 d^{8} - 102 d^{7} - 217 d^{6} - 316 d^{5} - 316 d^{4} - 210 d^{3} - 83 d^{2} - 14 d + 1\\right)}{4 \\left(d + 1\\right)^{4} \\left(d^{2} + d + 1\\right)^{2}}$"
      ],
      "text/plain": [
       "   2     2        3              2   2        4                 3   2 ⎛   6    ↪\n",
       "  d ⋅x⋅z₀ ⋅(d + 1) ⋅(2⋅d + 3)   d ⋅z₀ ⋅(d + 1)       5   2   d⋅x ⋅z₀ ⋅⎝2⋅d  +  ↪\n",
       "- ─────────────────────────── + ─────────────── + d⋅x ⋅z₀  - ───────────────── ↪\n",
       "                      2                       2                                ↪\n",
       "          ⎛ 2        ⎞            ⎛ 2        ⎞                                 ↪\n",
       "        2⋅⎝d  + d + 1⎠          4⋅⎝d  + d + 1⎠                               2 ↪\n",
       "\n",
       "↪    5       4      3       2           ⎞      2   2 ⎛   5       4       3     ↪\n",
       "↪ 7⋅d  + 15⋅d  + 9⋅d  - 10⋅d  - 17⋅d - 9⎠   d⋅x ⋅z₀ ⋅⎝6⋅d  + 26⋅d  + 47⋅d  + 3 ↪\n",
       "↪ ─────────────────────────────────────── + ────────────────────────────────── ↪\n",
       "↪                      2                                                   2   ↪\n",
       "↪          ⎛ 2        ⎞                                        ⎛ 2        ⎞    ↪\n",
       "↪ ⋅(d + 1)⋅⎝d  + d + 1⎠                                      4⋅⎝d  + d + 1⎠    ↪\n",
       "\n",
       "↪    2          ⎞    4   2 ⎛ 10      9       8        7        6        5      ↪\n",
       "↪ 0⋅d  + 3⋅d - 6⎠   x ⋅z₀ ⋅⎝d   - 2⋅d  - 29⋅d  - 102⋅d  - 217⋅d  - 316⋅d  - 31 ↪\n",
       "↪ ─────────────── + ────────────────────────────────────────────────────────── ↪\n",
       "↪                                                                           2  ↪\n",
       "↪                                                             4 ⎛ 2        ⎞   ↪\n",
       "↪                                                    4⋅(d + 1) ⋅⎝d  + d + 1⎠   ↪\n",
       "\n",
       "↪    4        3       2           ⎞\n",
       "↪ 6⋅d  - 210⋅d  - 83⋅d  - 14⋅d + 1⎠\n",
       "↪ ─────────────────────────────────\n",
       "↪                                  \n",
       "↪                                  \n",
       "↪                                  "
      ]
     },
     "execution_count": 15,
     "metadata": {},
     "output_type": "execute_result"
    }
   ],
   "source": [
    "p4 = factor_coeffs(f, x)\n",
    "p4"
   ]
  },
  {
   "cell_type": "code",
   "execution_count": 16,
   "id": "f34919da-2bc9-498a-baec-cc8c3a8399c1",
   "metadata": {},
   "outputs": [
    {
     "name": "stdout",
     "output_type": "stream",
     "text": [
      "- \\frac{d^{2} x z_{0}^{2} \\left(d + 1\\right)^{3} \\left(2 d + 3\\right)}{2 \\left(d^{2} + d + 1\\right)^{2}} + \\frac{d^{2} z_{0}^{2} \\left(d + 1\\right)^{4}}{4 \\left(d^{2} + d + 1\\right)^{2}} + d x^{5} z_{0}^{2} - \\frac{d x^{3} z_{0}^{2} \\left(2 d^{6} + 7 d^{5} + 15 d^{4} + 9 d^{3} - 10 d^{2} - 17 d - 9\\right)}{2 \\left(d + 1\\right) \\left(d^{2} + d + 1\\right)^{2}} + \\frac{d x^{2} z_{0}^{2} \\left(6 d^{5} + 26 d^{4} + 47 d^{3} + 30 d^{2} + 3 d - 6\\right)}{4 \\left(d^{2} + d + 1\\right)^{2}} + \\frac{x^{4} z_{0}^{2} \\left(d^{10} - 2 d^{9} - 29 d^{8} - 102 d^{7} - 217 d^{6} - 316 d^{5} - 316 d^{4} - 210 d^{3} - 83 d^{2} - 14 d + 1\\right)}{4 \\left(d + 1\\right)^{4} \\left(d^{2} + d + 1\\right)^{2}}\n"
     ]
    }
   ],
   "source": [
    "print(smp.latex(p4.as_expr()))"
   ]
  },
  {
   "cell_type": "code",
   "execution_count": null,
   "id": "5470f313-fbf6-4a24-9937-fdc549504d8a",
   "metadata": {},
   "outputs": [],
   "source": []
  },
  {
   "cell_type": "code",
   "execution_count": null,
   "id": "4e586458-3347-45bb-9d6d-02bed788a644",
   "metadata": {},
   "outputs": [],
   "source": []
  }
 ],
 "metadata": {
  "kernelspec": {
   "display_name": ".venv",
   "language": "python",
   "name": "python3"
  },
  "language_info": {
   "codemirror_mode": {
    "name": "ipython",
    "version": 3
   },
   "file_extension": ".py",
   "mimetype": "text/x-python",
   "name": "python",
   "nbconvert_exporter": "python",
   "pygments_lexer": "ipython3",
   "version": "3.12.4"
  }
 },
 "nbformat": 4,
 "nbformat_minor": 5
}
